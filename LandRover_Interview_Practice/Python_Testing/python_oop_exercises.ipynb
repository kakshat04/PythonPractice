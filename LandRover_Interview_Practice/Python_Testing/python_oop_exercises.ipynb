{
 "cells": [
  {
   "cell_type": "markdown",
   "id": "c680ec49",
   "metadata": {},
   "source": [
    "# Python OOP Practice — Exercises with TODOs + Quick Tests\n",
    "Work through the exercises. Each task has a minimal set of self-checks using `assert`. Avoid external libs.\n",
    "\n",
    "Topics: Encapsulation • Properties • Inheritance/Polymorphism • Abstract Base Classes • Composition •\n",
    "Class/Static Methods • Dunder Methods (Operator Overloading) • Multiple Inheritance/MRO • Dependency Injection/Mocking • Dataclasses\n"
   ]
  },
  {
   "cell_type": "markdown",
   "id": "463397bf",
   "metadata": {},
   "source": [
    "## 1) Encapsulation + Properties — `BankAccount`\n",
    "**Goal:** Encapsulate balance, validate operations, expose read-only property.\n",
    "- Private attribute for balance (`__balance`).\n",
    "- Methods: `deposit(amount)`, `withdraw(amount)` (raise `ValueError` if insufficient or invalid).\n",
    "- Read-only property `balance`.\n",
    "- Keep a simple immutable transaction log tuple list `(kind, amount, balance)`."
   ]
  },
  {
   "cell_type": "code",
   "id": "0e4f5d95",
   "metadata": {
    "ExecuteTime": {
     "end_time": "2025-09-03T10:34:11.402008Z",
     "start_time": "2025-09-03T10:34:11.395884Z"
    }
   },
   "source": [
    "class BankAccount:\n",
    "    def __init__(self, owner: str, starting_balance: float = 0.0):\n",
    "        # TODO: store owner, private balance, and initialize _log as list\n",
    "        if starting_balance < 0:\n",
    "            raise ValueError(\"Starting_balance cannot be negative\")\n",
    "        self.owner = owner\n",
    "        self.__balance = float(starting_balance)\n",
    "        self._log:[tuple[str, float, float]] = []\n",
    "\n",
    "    @property\n",
    "    def balance(self) -> float:\n",
    "        # TODO: return current balance\n",
    "        return self.__balance\n",
    "\n",
    "    def _add_log(self, kind: str, amount: float) -> None:\n",
    "        # TODO: append to internal log\n",
    "        return self._log.append((kind, float(amount), self.__balance))\n",
    "\n",
    "    def deposit(self, amount: float) -> None:\n",
    "        # TODO: validate amount > 0, update balance, log\n",
    "        if amount < 0:\n",
    "            raise ValueError(\"Deposit cannot be negative\")\n",
    "        self.__balance += amount\n",
    "        self._add_log(\"deposit\", amount)\n",
    "\n",
    "    def withdraw(self, amount: float) -> None:\n",
    "        # TODO: validate amount > 0 and <= balance, update, log else ValueError\n",
    "        if amount > self.__balance:\n",
    "            raise ValueError(\"Withdraw cannot be greater than balance\")\n",
    "        elif amount < 0:\n",
    "            raise ValueError(\"Withdraw cannot be less than 0\")\n",
    "        self.__balance -= amount\n",
    "        self._add_log(\"withdraw\", amount)\n",
    "\n",
    "    def statement(self) -> list[tuple[str, float, float]]:\n",
    "        # return a copy of the log\n",
    "        return self._log\n",
    "\n",
    "# Quick tests\n",
    "acc = BankAccount(\"Alice\", 100)\n",
    "acc.deposit(50)\n",
    "try:\n",
    "    acc.withdraw(1000)\n",
    "    assert False, \"Should raise for insufficient funds\"\n",
    "except ValueError:\n",
    "    pass\n",
    "acc.withdraw(30)\n",
    "st = acc.statement()\n",
    "assert st[-1][2] == 120 and acc.balance == 120\n",
    "print(\"BankAccount OK\")"
   ],
   "outputs": [
    {
     "name": "stdout",
     "output_type": "stream",
     "text": [
      "BankAccount OK\n"
     ]
    }
   ],
   "execution_count": 3
  },
  {
   "cell_type": "markdown",
   "id": "689521d4",
   "metadata": {},
   "source": [
    "## 2) Inheritance + Abstract Base Classes — `Shape`\n",
    "**Goal:** Implement an abstract `Shape` with `area()`/`perimeter()` and concrete `Rectangle`/`Circle`.\n",
    "- Use `abc.ABC` and `@abstractmethod`.\n",
    "- Ensure float return; use `math` for circle."
   ]
  },
  {
   "cell_type": "code",
   "id": "b9e6130b",
   "metadata": {
    "ExecuteTime": {
     "end_time": "2025-09-03T11:15:53.599693Z",
     "start_time": "2025-09-03T11:15:53.592652Z"
    }
   },
   "source": [
    "from abc import ABC, abstractmethod\n",
    "import math\n",
    "\n",
    "class Shape(ABC):\n",
    "    @abstractmethod\n",
    "    def area(self) -> float: ...\n",
    "    @abstractmethod\n",
    "    def perimeter(self) -> float: ...\n",
    "\n",
    "class Rectangle(Shape):\n",
    "    def __init__(self, width: float, height: float):\n",
    "        self.width = width\n",
    "        self.height = height\n",
    "\n",
    "    def area(self) -> float:\n",
    "        return self.width * self.height\n",
    "    def perimeter(self) -> float:\n",
    "        return 2*(self.width + self.height)\n",
    "\n",
    "class Circle(Shape):\n",
    "    def __init__(self, radius: float):\n",
    "        self.radius = radius\n",
    "\n",
    "    def area(self) -> float:\n",
    "        return math.pi * self.radius * self.radius\n",
    "\n",
    "    def perimeter(self) -> float:\n",
    "        return 2*math.pi*self.radius\n",
    "\n",
    "# TODO: implement Rectangle(w,h) and Circle(r)\n",
    "# Hints: rectangle area=w*h, perimeter=2*(w+h); circle area=pi*r^2, perimeter=2*pi*r\n",
    "\n",
    "# Quick tests\n",
    "r = Rectangle(3,4); c = Circle(1)\n",
    "assert r.area() == 12 and r.perimeter() == 14\n",
    "assert math.isclose(c.area(), math.pi, rel_tol=1e-6)\n",
    "assert math.isclose(c.perimeter(), 2*math.pi, rel_tol=1e-6)\n",
    "print(\"Fill Rectangle/Circle and un-comment tests\")"
   ],
   "outputs": [
    {
     "name": "stdout",
     "output_type": "stream",
     "text": [
      "Fill Rectangle/Circle and un-comment tests\n"
     ]
    }
   ],
   "execution_count": 2
  },
  {
   "cell_type": "markdown",
   "id": "058df062",
   "metadata": {},
   "source": [
    "## 3) Polymorphism — `speak()`\n",
    "Create base `Animal.speak()` (raise `NotImplementedError`). Implement `Dog` and `Cat`.\n",
    "Write a `chorus(animals)` function that returns a list of their sounds in order."
   ]
  },
  {
   "cell_type": "code",
   "id": "38ae0948",
   "metadata": {
    "ExecuteTime": {
     "end_time": "2025-09-03T11:57:36.120122Z",
     "start_time": "2025-09-03T11:57:36.113771Z"
    }
   },
   "source": [
    "class Animal:\n",
    "    def speak(self) -> str:\n",
    "        # TODO: override in subclasses\n",
    "        raise NotImplementedError\n",
    "\n",
    "class Dog(Animal):\n",
    "    # TODO: implement speak -> \"Woof!\"\n",
    "    def speak(self) -> str:\n",
    "        return \"Woof!\"\n",
    "\n",
    "class Cat(Animal):\n",
    "    def speak(self) -> str:\n",
    "        return \"Meow!\"\n",
    "\n",
    "def chorus(animals: list[Animal]) -> list[str]:\n",
    "    # TODO: return list of sounds calling speak()\n",
    "    return [animal.speak() for animal in animals]\n",
    "\n",
    "# Quick tests\n",
    "pets = [Dog(), Cat(), Dog()]\n",
    "assert chorus(pets) == [\"Woof!\",\"Meow!\",\"Woof!\"]\n",
    "print(\"Polymorphism ready\")"
   ],
   "outputs": [
    {
     "name": "stdout",
     "output_type": "stream",
     "text": [
      "Polymorphism ready\n"
     ]
    }
   ],
   "execution_count": 5
  },
  {
   "cell_type": "markdown",
   "id": "c8333db7",
   "metadata": {},
   "source": [
    "## 4) Composition — `ShoppingCart`\n",
    "Design `Product(name, price)` and `CartItem(product, qty)` and `ShoppingCart(tax_rate=0.2)`.\n",
    "- Methods: `add_item(product, qty)`, `remove_item(name)`, `subtotal()`, `tax()`, `total()`.\n",
    "- Prefer composition (cart HAS items)."
   ]
  },
  {
   "cell_type": "code",
   "id": "5b31bb20",
   "metadata": {
    "ExecuteTime": {
     "end_time": "2025-09-03T12:24:11.315697Z",
     "start_time": "2025-09-03T12:24:11.308583Z"
    }
   },
   "source": [
    "class Product:\n",
    "    def __init__(self, name: str, price: float):\n",
    "        self.name = name\n",
    "        self.price = float(price)\n",
    "\n",
    "class CartItem:\n",
    "    def __init__(self, product: Product, quantity: int):\n",
    "        if quantity <= 0:\n",
    "            raise ValueError(\"qty must be > 0\")\n",
    "        self.product = product\n",
    "        self.quantity = int(quantity)\n",
    "    @property\n",
    "    def subtotal(self) -> float:\n",
    "        return self.product.price * self.quantity\n",
    "\n",
    "class ShoppingCart:\n",
    "    def __init__(self, tax_rate: float = 0.2):\n",
    "        self.tax_rate = float(tax_rate)\n",
    "        self._items: dict[str, CartItem] = {}\n",
    "    def add_item(self, product: Product, qty: int) -> None:\n",
    "        if product.name in self._items:\n",
    "            self._items[product.name].quantity += qty\n",
    "        else:\n",
    "            self._items[product.name] = CartItem(product, qty)\n",
    "    def remove_item(self, name: str) -> None:\n",
    "        self._items.pop(name, None)\n",
    "    def subtotal(self) -> float:\n",
    "        return sum(item.subtotal for item in self._items.values())\n",
    "    def tax(self) -> float:\n",
    "        return self.subtotal() * self.tax_rate\n",
    "    def total(self) -> float:\n",
    "        return self.subtotal() + self.tax()\n",
    "\n",
    "p1 = Product(\"Book\", 10.0); p2 = Product(\"Pen\", 1.5)\n",
    "cart = ShoppingCart(tax_rate=0.19)\n",
    "cart.add_item(p1, 2); cart.add_item(p2, 3)\n",
    "st = cart.subtotal(); tx = cart.tax(); gt = cart.total()\n",
    "assert st == 10*2 + 1.5*3 and round(tx,2) == round(st*0.19,2) and round(gt,2) == round(st+tx,2)\n",
    "print(\"ShoppingCart: OK\")"
   ],
   "outputs": [
    {
     "name": "stdout",
     "output_type": "stream",
     "text": [
      "ShoppingCart: OK\n"
     ]
    }
   ],
   "execution_count": 12
  },
  {
   "cell_type": "markdown",
   "id": "a2b0c2c0",
   "metadata": {},
   "source": [
    "## 5) Class & Static Methods — `Employee`\n",
    "- Class attr `company='TechCorp'`.\n",
    "- `@classmethod change_company(new)` updates the class attribute.\n",
    "- `@staticmethod is_high_salary(salary)` returns bool.\n",
    "- Ensure instances reflect changed class attribute."
   ]
  },
  {
   "cell_type": "code",
   "execution_count": null,
   "id": "8681629f",
   "metadata": {},
   "outputs": [],
   "source": [
    "class Employee:\n",
    "    company = \"TechCorp\"\n",
    "    def __init__(self, name: str, salary: int):\n",
    "        # TODO\n",
    "        pass\n",
    "\n",
    "    @classmethod\n",
    "    def change_company(cls, new: str) -> None:\n",
    "        # TODO\n",
    "        pass\n",
    "\n",
    "    @staticmethod\n",
    "    def is_high_salary(salary: int) -> bool:\n",
    "        # TODO (e.g., > 100k)\n",
    "        pass\n",
    "\n",
    "# Quick tests\n",
    "# e = Employee(\"John\", 90000)\n",
    "# assert Employee.company == \"TechCorp\"\n",
    "# Employee.change_company(\"NewTech\")\n",
    "# assert e.company == \"NewTech\" and not Employee.is_high_salary(e.salary)\n",
    "print(\"Fill Employee and un-comment tests\")"
   ]
  },
  {
   "cell_type": "markdown",
   "id": "61668dec",
   "metadata": {},
   "source": [
    "## 6) Dunder Methods — `Vector` with `__add__`, `__repr__`, `__eq__`\n",
    "- Implement 2D vector add; equality by coordinates; readable repr."
   ]
  },
  {
   "cell_type": "code",
   "id": "dce68f32",
   "metadata": {
    "ExecuteTime": {
     "end_time": "2025-09-03T12:40:02.309583Z",
     "start_time": "2025-09-03T12:40:02.304647Z"
    }
   },
   "source": [
    "class Vector:\n",
    "    def __init__(self, x: float, y: float):\n",
    "        # TODO\n",
    "        self.x = float(x)\n",
    "        self.y = float(y)\n",
    "\n",
    "    def __add__(self, other: 'Vector') -> 'Vector':\n",
    "        if not isinstance(other, Vector):\n",
    "            return NotImplemented\n",
    "        return Vector(self.x + other.x, self.y + other.y)\n",
    "\n",
    "    def __eq__(self, other: object) -> bool:\n",
    "        return isinstance(other, Vector) and self.x == other.x and self.y == other.y\n",
    "\n",
    "    def __repr__(self) -> str:\n",
    "        # TODO\n",
    "        return f\"Vector({int(self.x) if self.x.is_integer() else self.x}, {int(self.y) if self.y.is_integer() else self.y})\"\n",
    "\n",
    "# Quick tests\n",
    "v1 = Vector(2,3); v2 = Vector(4,5)\n",
    "assert (v1+v2) == Vector(6,8)\n",
    "assert repr(v1) == \"Vector(2, 3)\"\n",
    "print(\"Vector ready\")"
   ],
   "outputs": [
    {
     "name": "stdout",
     "output_type": "stream",
     "text": [
      "Vector ready\n"
     ]
    }
   ],
   "execution_count": 15
  },
  {
   "cell_type": "markdown",
   "id": "129aeb32",
   "metadata": {},
   "source": [
    "## 7) Multiple Inheritance & MRO — `Tracer`\n",
    "Create classes A.greet() and B.greet(); C(A,B) with cooperative `super()` and show MRO effect.\n",
    "Implement `Mixin` that logs calls to a list `trace` on instance."
   ]
  },
  {
   "cell_type": "code",
   "id": "4511af7f",
   "metadata": {
    "ExecuteTime": {
     "end_time": "2025-09-03T14:29:32.135161Z",
     "start_time": "2025-09-03T14:29:32.122347Z"
    }
   },
   "source": [
    "class A:\n",
    "    def greet(self) -> str:\n",
    "        return \"Hello from A\"\n",
    "\n",
    "class B:\n",
    "    def greet(self) -> str:\n",
    "        return \"Hello from B\"\n",
    "\n",
    "class Mixin:\n",
    "    def __init__(self):\n",
    "        self.trace = []\n",
    "        super().__init__()\n",
    "\n",
    "class C(Mixin, A, B):\n",
    "    def __init__(self):\n",
    "        super().__init__()\n",
    "\n",
    "    def greet(self) -> str:\n",
    "        self.trace.append(\"C.greet\")\n",
    "        # TODO: append to trace which class ran and return first parent greet using super()\n",
    "        return super().greet()\n",
    "\n",
    "# Quick tests\n",
    "c = C()\n",
    "msg = c.greet()\n",
    "assert msg in {\"Hello from A\",\"Hello from B\"}\n",
    "assert \"C.greet\" in c.trace\n",
    "print(C.mro())\n",
    "print(\"Implement C with cooperative super() and un-comment tests\")"
   ],
   "outputs": [
    {
     "name": "stdout",
     "output_type": "stream",
     "text": [
      "[<class '__main__.C'>, <class '__main__.Mixin'>, <class '__main__.A'>, <class '__main__.B'>, <class 'object'>]\n",
      "Implement C with cooperative super() and un-comment tests\n"
     ]
    }
   ],
   "execution_count": 21
  },
  {
   "cell_type": "markdown",
   "id": "83e4428d",
   "metadata": {},
   "source": [
    "## 8) Dependency Injection + Mocking — `ApiService`\n",
    "Define a protocol-like interface for `HttpClient` with `get(url)->dict`.\n",
    "Implement `ApiService(client)` that calls `client.get` and returns parsed value.\n",
    "Write a tiny mock object capturing calls to assert behavior."
   ]
  },
  {
   "cell_type": "code",
   "execution_count": null,
   "id": "29393887",
   "metadata": {},
   "outputs": [],
   "source": [
    "class ApiService:\n",
    "    def __init__(self, client):\n",
    "        # TODO: store injected client\n",
    "        pass\n",
    "    def get_user_name(self, user_id: int) -> str:\n",
    "        # TODO: call client.get(f\"/users/{user_id}\") and return payload['name']\n",
    "        pass\n",
    "\n",
    "# Quick tests with a hand-made mock\n",
    "class MockClient:\n",
    "    def __init__(self, data):\n",
    "        self.data = data\n",
    "        self.calls = []\n",
    "    def get(self, url: str) -> dict:\n",
    "        self.calls.append(url)\n",
    "        return self.data[url]\n",
    "\n",
    "# mock setup\n",
    "# mock = MockClient({\"/users/1\": {\"id\":1,\"name\":\"Alice\"}})\n",
    "# svc = ApiService(mock)\n",
    "# assert svc.get_user_name(1) == \"Alice\"\n",
    "# assert mock.calls == [\"/users/1\"]\n",
    "print(\"Implement ApiService and un-comment tests\")"
   ]
  },
  {
   "cell_type": "markdown",
   "id": "9d23a406",
   "metadata": {},
   "source": [
    "## 9) Dataclasses — `@dataclass` for Value Objects\n",
    "Refactor a small immutable value object `Point(x,y)` using `@dataclass(frozen=True)` and reuse in calculations."
   ]
  },
  {
   "cell_type": "code",
   "execution_count": null,
   "id": "a07a06d6",
   "metadata": {},
   "outputs": [],
   "source": [
    "from dataclasses import dataclass\n",
    "\n",
    "# TODO: implement @dataclass(frozen=True) Point with x:int, y:int and a method manhattan(other)->int\n",
    "\n",
    "# Quick tests\n",
    "# p1 = Point(1,2); p2 = Point(4,6)\n",
    "# assert p1.manhattan(p2) == 7\n",
    "# try:\n",
    "#     p1.x = 99\n",
    "#     assert False, \"Should be frozen\"\n",
    "# except Exception:\n",
    "#     pass\n",
    "print(\"Create Point and un-comment tests\")"
   ]
  },
  {
   "cell_type": "markdown",
   "id": "54750bae",
   "metadata": {},
   "source": [
    "## 10) Small Design Exercise — Extendable Logger (Strategy)\n",
    "Design `Logger(level_filter, handlers)` where handlers implement `.emit(level, msg)`.\n",
    "Provide `ConsoleHandler` (prints) and `MemoryHandler` (stores messages in a list). No `if/else` per handler inside Logger."
   ]
  },
  {
   "cell_type": "code",
   "execution_count": null,
   "id": "e4439ad4",
   "metadata": {},
   "outputs": [],
   "source": [
    "class Handler:\n",
    "    def emit(self, level: str, msg: str) -> None:\n",
    "        raise NotImplementedError\n",
    "\n",
    "class ConsoleHandler(Handler):\n",
    "    # TODO: print message\n",
    "    pass\n",
    "\n",
    "class MemoryHandler(Handler):\n",
    "    def __init__(self):\n",
    "        self.store = []\n",
    "    def emit(self, level: str, msg: str) -> None:\n",
    "        # TODO: append to store\n",
    "        pass\n",
    "\n",
    "class Logger:\n",
    "    def __init__(self, level_filter: set[str], handlers: list[Handler]):\n",
    "        # TODO: assign\n",
    "        pass\n",
    "    def log(self, level: str, msg: str) -> None:\n",
    "        # TODO: if level allowed, forward to all handlers via their emit()\n",
    "        pass\n",
    "\n",
    "# Quick tests\n",
    "# mem = MemoryHandler()\n",
    "# logger = Logger(level_filter={\"INFO\",\"ERROR\"}, handlers=[mem])\n",
    "# logger.log(\"DEBUG\",\"x\")      # filtered\n",
    "# logger.log(\"INFO\",\"hello\")   # stored\n",
    "# assert mem.store == [(\"INFO\",\"hello\")]\n",
    "print(\"Implement Logger and un-comment tests\")"
   ]
  }
 ],
 "metadata": {},
 "nbformat": 4,
 "nbformat_minor": 5
}
