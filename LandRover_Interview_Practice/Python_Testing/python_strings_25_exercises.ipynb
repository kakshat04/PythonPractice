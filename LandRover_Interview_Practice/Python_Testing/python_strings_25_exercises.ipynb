{
 "cells": [
  {
   "cell_type": "markdown",
   "id": "da15e6d2",
   "metadata": {},
   "source": [
    "# 25 Python Exercises: Strings\n",
    "Solve each task in the code cell below its description. No solutions are provided."
   ]
  },
  {
   "cell_type": "markdown",
   "id": "c23ffd56",
   "metadata": {},
   "source": [
    "## 1) Reverse a string\n",
    "\n",
    "Read a string and print its reverse (no slicing trick if you can avoid it)."
   ]
  },
  {
   "cell_type": "code",
   "execution_count": null,
   "id": "bc98aa02",
   "metadata": {},
   "outputs": [],
   "source": [
    "# Your code here\n",
    "# You may write helper functions and tests below.\n"
   ]
  },
  {
   "cell_type": "markdown",
   "id": "d013204d",
   "metadata": {},
   "source": [
    "## 2) Palindrome check (ignore case/space)\n",
    "\n",
    "Check whether a phrase is a palindrome ignoring non-alphanumerics and case."
   ]
  },
  {
   "cell_type": "code",
   "execution_count": null,
   "id": "f8e88769",
   "metadata": {},
   "outputs": [],
   "source": [
    "# Your code here\n",
    "# You may write helper functions and tests below.\n"
   ]
  },
  {
   "cell_type": "markdown",
   "id": "60060843",
   "metadata": {},
   "source": [
    "## 3) Count vowels and consonants\n",
    "\n",
    "Count vowels and consonants in a string."
   ]
  },
  {
   "cell_type": "code",
   "execution_count": null,
   "id": "d4cf40b8",
   "metadata": {},
   "outputs": [],
   "source": [
    "# Your code here\n",
    "# You may write helper functions and tests below.\n"
   ]
  },
  {
   "cell_type": "markdown",
   "id": "9a15d906",
   "metadata": {},
   "source": [
    "## 4) Remove punctuation\n",
    "\n",
    "Remove all ASCII punctuation characters from a string."
   ]
  },
  {
   "cell_type": "code",
   "execution_count": null,
   "id": "49c9a5e1",
   "metadata": {},
   "outputs": [],
   "source": [
    "# Your code here\n",
    "# You may write helper functions and tests below.\n"
   ]
  },
  {
   "cell_type": "markdown",
   "id": "2ce4afa9",
   "metadata": {},
   "source": [
    "## 5) Title case (simple)\n",
    "\n",
    "Convert a string to title case (basic behavior is fine)."
   ]
  },
  {
   "cell_type": "code",
   "execution_count": null,
   "id": "a4f9fac7",
   "metadata": {},
   "outputs": [],
   "source": [
    "# Your code here\n",
    "# You may write helper functions and tests below.\n"
   ]
  },
  {
   "cell_type": "markdown",
   "id": "aceb8fa3",
   "metadata": {},
   "source": [
    "## 6) Check anagram\n",
    "\n",
    "Check whether two strings are anagrams of each other."
   ]
  },
  {
   "cell_type": "code",
   "execution_count": null,
   "id": "66270bec",
   "metadata": {},
   "outputs": [],
   "source": [
    "# Your code here\n",
    "# You may write helper functions and tests below.\n"
   ]
  },
  {
   "cell_type": "markdown",
   "id": "b9586994",
   "metadata": {},
   "source": [
    "## 7) Find all indices of substring (including overlaps)\n",
    "\n",
    "Return all starting indices of a substring in a string (allow overlaps)."
   ]
  },
  {
   "cell_type": "code",
   "execution_count": null,
   "id": "7eb6a4a8",
   "metadata": {},
   "outputs": [],
   "source": [
    "# Your code here\n",
    "# You may write helper functions and tests below.\n"
   ]
  },
  {
   "cell_type": "markdown",
   "id": "9165210e",
   "metadata": {},
   "source": [
    "## 8) Replace multiple substrings\n",
    "\n",
    "Replace several specific characters/digits according to a mapping table."
   ]
  },
  {
   "cell_type": "code",
   "execution_count": null,
   "id": "4d3ad01d",
   "metadata": {},
   "outputs": [],
   "source": [
    "# Your code here\n",
    "# You may write helper functions and tests below.\n"
   ]
  },
  {
   "cell_type": "markdown",
   "id": "33b26d40",
   "metadata": {},
   "source": [
    "## 9) Split and join words\n",
    "\n",
    "Split a sentence into words and join with '-'."
   ]
  },
  {
   "cell_type": "code",
   "execution_count": null,
   "id": "bf16195b",
   "metadata": {},
   "outputs": [],
   "source": [
    "# Your code here\n",
    "# You may write helper functions and tests below.\n"
   ]
  },
  {
   "cell_type": "markdown",
   "id": "315d239d",
   "metadata": {},
   "source": [
    "## 10) Most common word\n",
    "\n",
    "Return the most common word in a string (break ties arbitrarily)."
   ]
  },
  {
   "cell_type": "code",
   "execution_count": null,
   "id": "95ddc7e6",
   "metadata": {},
   "outputs": [],
   "source": [
    "# Your code here\n",
    "# You may write helper functions and tests below.\n"
   ]
  },
  {
   "cell_type": "markdown",
   "id": "7317d759",
   "metadata": {},
   "source": [
    "## 11) ASCII checks\n",
    "\n",
    "Given a string, print isalpha, isdigit, and isalnum checks."
   ]
  },
  {
   "cell_type": "code",
   "execution_count": null,
   "id": "df9d36ee",
   "metadata": {},
   "outputs": [],
   "source": [
    "# Your code here\n",
    "# You may write helper functions and tests below.\n"
   ]
  },
  {
   "cell_type": "markdown",
   "id": "f3f65bd6",
   "metadata": {},
   "source": [
    "## 12) Trim/strip demo\n",
    "\n",
    "Strip leading/trailing whitespace and show lstrip/rstrip behavior."
   ]
  },
  {
   "cell_type": "code",
   "execution_count": null,
   "id": "4963a289",
   "metadata": {},
   "outputs": [],
   "source": [
    "# Your code here\n",
    "# You may write helper functions and tests below.\n"
   ]
  },
  {
   "cell_type": "markdown",
   "id": "ba5abd9c",
   "metadata": {},
   "source": [
    "## 13) Dedent multiline text\n",
    "\n",
    "Dedent a multi-line string to remove common indentation."
   ]
  },
  {
   "cell_type": "code",
   "execution_count": null,
   "id": "d8cca256",
   "metadata": {},
   "outputs": [],
   "source": [
    "# Your code here\n",
    "# You may write helper functions and tests below.\n"
   ]
  },
  {
   "cell_type": "markdown",
   "id": "b52fcc70",
   "metadata": {},
   "source": [
    "## 14) Format with f-strings\n",
    "\n",
    "Use an f-string to format a simple report line."
   ]
  },
  {
   "cell_type": "code",
   "execution_count": null,
   "id": "e9c36993",
   "metadata": {},
   "outputs": [],
   "source": [
    "# Your code here\n",
    "# You may write helper functions and tests below.\n"
   ]
  },
  {
   "cell_type": "markdown",
   "id": "8f7628ee",
   "metadata": {},
   "source": [
    "## 15) ROT13 (basic)\n",
    "\n",
    "Apply ROT13 to a string (letters only)."
   ]
  },
  {
   "cell_type": "code",
   "execution_count": null,
   "id": "4f1b349b",
   "metadata": {},
   "outputs": [],
   "source": [
    "# Your code here\n",
    "# You may write helper functions and tests below.\n"
   ]
  },
  {
   "cell_type": "markdown",
   "id": "a618a569",
   "metadata": {},
   "source": [
    "## 16) Caesar cipher shift\n",
    "\n",
    "Implement a Caesar cipher with configurable shift for lowercase letters."
   ]
  },
  {
   "cell_type": "code",
   "execution_count": null,
   "id": "fac9f72d",
   "metadata": {},
   "outputs": [],
   "source": [
    "# Your code here\n",
    "# You may write helper functions and tests below.\n"
   ]
  },
  {
   "cell_type": "markdown",
   "id": "58d8bfa8",
   "metadata": {},
   "source": [
    "## 17) Longest word\n",
    "\n",
    "Find the longest word in a sentence."
   ]
  },
  {
   "cell_type": "code",
   "execution_count": null,
   "id": "c36208d6",
   "metadata": {},
   "outputs": [],
   "source": [
    "# Your code here\n",
    "# You may write helper functions and tests below.\n"
   ]
  },
  {
   "cell_type": "markdown",
   "id": "0fefbd0c",
   "metadata": {},
   "source": [
    "## 18) Count words and characters\n",
    "\n",
    "Count total characters and number of words in a string."
   ]
  },
  {
   "cell_type": "code",
   "execution_count": null,
   "id": "45d50101",
   "metadata": {},
   "outputs": [],
   "source": [
    "# Your code here\n",
    "# You may write helper functions and tests below.\n"
   ]
  },
  {
   "cell_type": "markdown",
   "id": "6f02a375",
   "metadata": {},
   "source": [
    "## 19) Unique characters\n",
    "\n",
    "Return the sorted list of unique characters from a string."
   ]
  },
  {
   "cell_type": "code",
   "execution_count": null,
   "id": "ef1a1961",
   "metadata": {},
   "outputs": [],
   "source": [
    "# Your code here\n",
    "# You may write helper functions and tests below.\n"
   ]
  },
  {
   "cell_type": "markdown",
   "id": "56dd20a6",
   "metadata": {},
   "source": [
    "## 20) Remove duplicate characters (preserve order)\n",
    "\n",
    "Remove duplicate characters from a string while preserving order."
   ]
  },
  {
   "cell_type": "code",
   "execution_count": null,
   "id": "a19f718e",
   "metadata": {},
   "outputs": [],
   "source": [
    "# Your code here\n",
    "# You may write helper functions and tests below.\n"
   ]
  },
  {
   "cell_type": "markdown",
   "id": "08ef5521",
   "metadata": {},
   "source": [
    "## 21) Center, ljust, rjust\n",
    "\n",
    "Demonstrate center, ljust, and rjust on a short string."
   ]
  },
  {
   "cell_type": "code",
   "execution_count": null,
   "id": "f75da250",
   "metadata": {},
   "outputs": [],
   "source": [
    "# Your code here\n",
    "# You may write helper functions and tests below.\n"
   ]
  },
  {
   "cell_type": "markdown",
   "id": "d7eac672",
   "metadata": {},
   "source": [
    "## 22) Startswith/endswith tuple\n",
    "\n",
    "Check whether a filename ends with any of several extensions."
   ]
  },
  {
   "cell_type": "code",
   "execution_count": null,
   "id": "1ab7a3c4",
   "metadata": {},
   "outputs": [],
   "source": [
    "# Your code here\n",
    "# You may write helper functions and tests below.\n"
   ]
  },
  {
   "cell_type": "markdown",
   "id": "ba4de4ea",
   "metadata": {},
   "source": [
    "## 23) Count substring occurrences\n",
    "\n",
    "Count occurrences of a substring (including overlaps)."
   ]
  },
  {
   "cell_type": "code",
   "execution_count": null,
   "id": "514878d4",
   "metadata": {},
   "outputs": [],
   "source": [
    "# Your code here\n",
    "# You may write helper functions and tests below.\n"
   ]
  },
  {
   "cell_type": "markdown",
   "id": "dbec3b60",
   "metadata": {},
   "source": [
    "## 24) Remove all whitespace\n",
    "\n",
    "Remove all whitespace (spaces, tabs, newlines) from a string."
   ]
  },
  {
   "cell_type": "code",
   "execution_count": null,
   "id": "6858a873",
   "metadata": {},
   "outputs": [],
   "source": [
    "# Your code here\n",
    "# You may write helper functions and tests below.\n"
   ]
  },
  {
   "cell_type": "markdown",
   "id": "7be0d3ec",
   "metadata": {},
   "source": [
    "## 25) Slugify (basic)\n",
    "\n",
    "Convert a string to a URL-friendly slug (lowercase, alnum + hyphens)."
   ]
  },
  {
   "cell_type": "code",
   "execution_count": null,
   "id": "92112aae",
   "metadata": {},
   "outputs": [],
   "source": [
    "# Your code here\n",
    "# You may write helper functions and tests below.\n"
   ]
  }
 ],
 "metadata": {
  "kernelspec": {
   "display_name": "Python 3",
   "language": "python",
   "name": "python3"
  },
  "language_info": {
   "name": "python",
   "version": "3"
  }
 },
 "nbformat": 4,
 "nbformat_minor": 5
}