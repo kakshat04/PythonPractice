{
 "cells": [
  {
   "cell_type": "markdown",
   "id": "30f9dd0d",
   "metadata": {},
   "source": [
    "# Solutions: Python OOP Practice — Exercises 1–10\n",
    "These are reference implementations with basic self-tests. Use them to compare against your own solutions."
   ]
  },
  {
   "cell_type": "markdown",
   "id": "111cd530",
   "metadata": {},
   "source": [
    "## 1) Encapsulation + Properties — `BankAccount`"
   ]
  },
  {
   "cell_type": "code",
   "execution_count": null,
   "id": "a218b8e2",
   "metadata": {},
   "outputs": [],
   "source": [
    "class BankAccount:\n",
    "    def __init__(self, owner: str, starting_balance: float = 0.0):\n",
    "        if starting_balance < 0:\n",
    "            raise ValueError(\"starting_balance must be >= 0\")\n",
    "        self.owner = owner\n",
    "        self.__balance = float(starting_balance)\n",
    "        self._log: list[tuple[str, float, float]] = []\n",
    "        if starting_balance:\n",
    "            self._add_log(\"open\", starting_balance)\n",
    "\n",
    "    @property\n",
    "    def balance(self) -> float:\n",
    "        return self.__balance\n",
    "\n",
    "    def _add_log(self, kind: str, amount: float) -> None:\n",
    "        self._log.append((kind, float(amount), float(self.__balance)))\n",
    "\n",
    "    def deposit(self, amount: float) -> None:\n",
    "        if amount <= 0:\n",
    "            raise ValueError(\"amount must be > 0\")\n",
    "        self.__balance += amount\n",
    "        self._add_log(\"deposit\", amount)\n",
    "\n",
    "    def withdraw(self, amount: float) -> None:\n",
    "        if amount <= 0:\n",
    "            raise ValueError(\"amount must be > 0\")\n",
    "        if amount > self.__balance:\n",
    "            raise ValueError(\"insufficient funds\")\n",
    "        self.__balance -= amount\n",
    "        self._add_log(\"withdraw\", amount)\n",
    "\n",
    "    def statement(self) -> list[tuple[str, float, float]]:\n",
    "        return list(self._log)\n",
    "\n",
    "# Quick tests\n",
    "acc = BankAccount(\"Alice\", 100)\n",
    "acc.deposit(50)\n",
    "try:\n",
    "    acc.withdraw(1000)\n",
    "    assert False\n",
    "except ValueError:\n",
    "    pass\n",
    "acc.withdraw(30)\n",
    "st = acc.statement()\n",
    "assert st[-1][2] == 120 and acc.balance == 120\n",
    "print(\"BankAccount: OK\")"
   ]
  },
  {
   "cell_type": "markdown",
   "id": "d03aea17",
   "metadata": {},
   "source": [
    "## 2) Inheritance + ABC — `Shape`, `Rectangle`, `Circle`"
   ]
  },
  {
   "cell_type": "code",
   "execution_count": null,
   "id": "b5a9e7fa",
   "metadata": {},
   "outputs": [],
   "source": [
    "from abc import ABC, abstractmethod\n",
    "import math\n",
    "\n",
    "class Shape(ABC):\n",
    "    @abstractmethod\n",
    "    def area(self) -> float: ...\n",
    "    @abstractmethod\n",
    "    def perimeter(self) -> float: ...\n",
    "\n",
    "class Rectangle(Shape):\n",
    "    def __init__(self, w: float, h: float):\n",
    "        self.w, self.h = float(w), float(h)\n",
    "    def area(self) -> float:\n",
    "        return self.w * self.h\n",
    "    def perimeter(self) -> float:\n",
    "        return 2 * (self.w + self.h)\n",
    "\n",
    "class Circle(Shape):\n",
    "    def __init__(self, r: float):\n",
    "        self.r = float(r)\n",
    "    def area(self) -> float:\n",
    "        return math.pi * self.r * self.r\n",
    "    def perimeter(self) -> float:\n",
    "        return 2 * math.pi * self.r\n",
    "\n",
    "r = Rectangle(3,4); c = Circle(1)\n",
    "assert r.area() == 12 and r.perimeter() == 14\n",
    "assert math.isclose(c.area(), math.pi, rel_tol=1e-6)\n",
    "assert math.isclose(c.perimeter(), 2*math.pi, rel_tol=1e-6)\n",
    "print(\"Shapes: OK\")"
   ]
  },
  {
   "cell_type": "markdown",
   "id": "8bd99e85",
   "metadata": {},
   "source": [
    "## 3) Polymorphism — Animals"
   ]
  },
  {
   "cell_type": "code",
   "execution_count": null,
   "id": "5bdb5f03",
   "metadata": {},
   "outputs": [],
   "source": [
    "class Animal:\n",
    "    def speak(self) -> str:\n",
    "        raise NotImplementedError\n",
    "\n",
    "class Dog(Animal):\n",
    "    def speak(self) -> str:\n",
    "        return \"Woof!\"\n",
    "\n",
    "class Cat(Animal):\n",
    "    def speak(self) -> str:\n",
    "        return \"Meow!\"\n",
    "\n",
    "def chorus(animals: list[Animal]) -> list[str]:\n",
    "    return [a.speak() for a in animals]\n",
    "\n",
    "pets = [Dog(), Cat(), Dog()]\n",
    "assert chorus(pets) == [\"Woof!\",\"Meow!\",\"Woof!\"]\n",
    "print(\"Polymorphism: OK\")"
   ]
  },
  {
   "cell_type": "markdown",
   "id": "0ee296b9",
   "metadata": {},
   "source": [
    "## 4) Composition — ShoppingCart"
   ]
  },
  {
   "cell_type": "code",
   "execution_count": null,
   "id": "63ccb008",
   "metadata": {},
   "outputs": [],
   "source": [
    "class Product:\n",
    "    def __init__(self, name: str, price: float):\n",
    "        self.name = name\n",
    "        self.price = float(price)\n",
    "\n",
    "class CartItem:\n",
    "    def __init__(self, product: Product, quantity: int):\n",
    "        if quantity <= 0:\n",
    "            raise ValueError(\"qty must be > 0\")\n",
    "        self.product = product\n",
    "        self.quantity = int(quantity)\n",
    "    @property\n",
    "    def subtotal(self) -> float:\n",
    "        return self.product.price * self.quantity\n",
    "\n",
    "class ShoppingCart:\n",
    "    def __init__(self, tax_rate: float = 0.2):\n",
    "        self.tax_rate = float(tax_rate)\n",
    "        self._items: dict[str, CartItem] = {}\n",
    "    def add_item(self, product: Product, qty: int) -> None:\n",
    "        if product.name in self._items:\n",
    "            self._items[product.name].quantity += qty\n",
    "        else:\n",
    "            self._items[product.name] = CartItem(product, qty)\n",
    "    def remove_item(self, name: str) -> None:\n",
    "        self._items.pop(name, None)\n",
    "    def subtotal(self) -> float:\n",
    "        return sum(item.subtotal for item in self._items.values())\n",
    "    def tax(self) -> float:\n",
    "        return self.subtotal() * self.tax_rate\n",
    "    def total(self) -> float:\n",
    "        return self.subtotal() + self.tax()\n",
    "\n",
    "p1 = Product(\"Book\", 10.0); p2 = Product(\"Pen\", 1.5)\n",
    "cart = ShoppingCart(tax_rate=0.19)\n",
    "cart.add_item(p1, 2); cart.add_item(p2, 3)\n",
    "st = cart.subtotal(); tx = cart.tax(); gt = cart.total()\n",
    "assert st == 10*2 + 1.5*3 and round(tx,2) == round(st*0.19,2) and round(gt,2) == round(st+tx,2)\n",
    "print(\"ShoppingCart: OK\")"
   ]
  },
  {
   "cell_type": "markdown",
   "id": "d4c7848a",
   "metadata": {},
   "source": [
    "## 5) Class & Static Methods — Employee"
   ]
  },
  {
   "cell_type": "code",
   "execution_count": null,
   "id": "ee1535d0",
   "metadata": {},
   "outputs": [],
   "source": [
    "class Employee:\n",
    "    company = \"TechCorp\"\n",
    "    def __init__(self, name: str, salary: int):\n",
    "        self.name = name\n",
    "        self.salary = int(salary)\n",
    "    @classmethod\n",
    "    def change_company(cls, new: str) -> None:\n",
    "        cls.company = new\n",
    "    @staticmethod\n",
    "    def is_high_salary(salary: int) -> bool:\n",
    "        return salary > 100_000\n",
    "\n",
    "e = Employee(\"John\", 90_000)\n",
    "assert Employee.company == \"TechCorp\"\n",
    "Employee.change_company(\"NewTech\")\n",
    "assert e.company == \"NewTech\" and not Employee.is_high_salary(e.salary)\n",
    "print(\"Employee: OK\")"
   ]
  },
  {
   "cell_type": "markdown",
   "id": "01f359e9",
   "metadata": {},
   "source": [
    "## 6) Dunder Methods — Vector"
   ]
  },
  {
   "cell_type": "code",
   "execution_count": null,
   "id": "4d4ccce4",
   "metadata": {},
   "outputs": [],
   "source": [
    "class Vector:\n",
    "    def __init__(self, x: float, y: float):\n",
    "        self.x, self.y = float(x), float(y)\n",
    "    def __add__(self, other: 'Vector') -> 'Vector':\n",
    "        if not isinstance(other, Vector):\n",
    "            return NotImplemented\n",
    "        return Vector(self.x + other.x, self.y + other.y)\n",
    "    def __eq__(self, other: object) -> bool:\n",
    "        return isinstance(other, Vector) and self.x == other.x and self.y == other.y\n",
    "    def __repr__(self) -> str:\n",
    "        return f\"Vector({int(self.x) if self.x.is_integer() else self.x}, {int(self.y) if self.y.is_integer() else self.y})\"\n",
    "\n",
    "v1 = Vector(2,3); v2 = Vector(4,5)\n",
    "assert (v1+v2) == Vector(6,8)\n",
    "assert repr(v1) == \"Vector(2, 3)\"\n",
    "print(\"Vector: OK\")"
   ]
  },
  {
   "cell_type": "markdown",
   "id": "4bf5cbe2",
   "metadata": {},
   "source": [
    "## 7) Multiple Inheritance & MRO — Tracer"
   ]
  },
  {
   "cell_type": "code",
   "id": "7afea0ca",
   "metadata": {
    "ExecuteTime": {
     "end_time": "2025-09-03T12:48:18.641069Z",
     "start_time": "2025-09-03T12:48:18.635561Z"
    }
   },
   "source": [
    "class A:\n",
    "    def greet(self) -> str:\n",
    "        return \"Hello from A\"\n",
    "class B:\n",
    "    def greet(self) -> str:\n",
    "        return \"Hello from B\"\n",
    "class Mixin:\n",
    "    def __init__(self):\n",
    "        self.trace = []\n",
    "        super().__init__()\n",
    "\n",
    "class C(Mixin, A, B):\n",
    "    def __init__(self):\n",
    "        super().__init__()\n",
    "    def greet(self) -> str:\n",
    "        self.trace.append(\"C.greet\")\n",
    "        # Call next in MRO (A.greet next)\n",
    "        return super().greet()\n",
    "\n",
    "c = C()\n",
    "msg = c.greet()\n",
    "assert msg in {\"Hello from A\",\"Hello from B\"}\n",
    "assert \"C.greet\" in c.trace\n",
    "_ = C.mro()\n",
    "print(\"MRO/Tracer: OK\")"
   ],
   "outputs": [
    {
     "name": "stdout",
     "output_type": "stream",
     "text": [
      "MRO/Tracer: OK\n"
     ]
    }
   ],
   "execution_count": 2
  },
  {
   "cell_type": "markdown",
   "id": "e9b60c81",
   "metadata": {},
   "source": [
    "## 8) Dependency Injection + Mocking — ApiService"
   ]
  },
  {
   "cell_type": "code",
   "execution_count": null,
   "id": "c5a13b15",
   "metadata": {},
   "outputs": [],
   "source": [
    "class ApiService:\n",
    "    def __init__(self, client):\n",
    "        self._client = client\n",
    "    def get_user_name(self, user_id: int) -> str:\n",
    "        payload = self._client.get(f\"/users/{user_id}\")\n",
    "        return payload[\"name\"]\n",
    "\n",
    "class MockClient:\n",
    "    def __init__(self, data):\n",
    "        self.data = data\n",
    "        self.calls = []\n",
    "    def get(self, url: str) -> dict:\n",
    "        self.calls.append(url)\n",
    "        return self.data[url]\n",
    "\n",
    "mock = MockClient({\"/users/1\": {\"id\":1,\"name\":\"Alice\"}})\n",
    "svc = ApiService(mock)\n",
    "assert svc.get_user_name(1) == \"Alice\"\n",
    "assert mock.calls == [\"/users/1\"]\n",
    "print(\"ApiService: OK\")"
   ]
  },
  {
   "cell_type": "markdown",
   "id": "2a4aa2d1",
   "metadata": {},
   "source": [
    "## 9) Dataclasses — Point (frozen)"
   ]
  },
  {
   "cell_type": "code",
   "execution_count": null,
   "id": "85b92e6b",
   "metadata": {},
   "outputs": [],
   "source": [
    "from dataclasses import dataclass\n",
    "\n",
    "@dataclass(frozen=True)\n",
    "class Point:\n",
    "    x: int\n",
    "    y: int\n",
    "    def manhattan(self, other: 'Point') -> int:\n",
    "        return abs(self.x - other.x) + abs(self.y - other.y)\n",
    "\n",
    "p1 = Point(1,2); p2 = Point(4,6)\n",
    "assert p1.manhattan(p2) == 7\n",
    "try:\n",
    "    p1.x = 99\n",
    "    assert False\n",
    "except Exception:\n",
    "    pass\n",
    "print(\"Point: OK\")"
   ]
  },
  {
   "cell_type": "markdown",
   "id": "6862fb5b",
   "metadata": {},
   "source": [
    "## 10) Strategy Logger — ConsoleHandler & MemoryHandler"
   ]
  },
  {
   "cell_type": "code",
   "execution_count": null,
   "id": "5cbff9ea",
   "metadata": {},
   "outputs": [],
   "source": [
    "class Handler:\n",
    "    def emit(self, level: str, msg: str) -> None:\n",
    "        raise NotImplementedError\n",
    "\n",
    "class ConsoleHandler(Handler):\n",
    "    def emit(self, level: str, msg: str) -> None:\n",
    "        print(f\"[{level}] {msg}\")\n",
    "\n",
    "class MemoryHandler(Handler):\n",
    "    def __init__(self):\n",
    "        self.store: list[tuple[str,str]] = []\n",
    "    def emit(self, level: str, msg: str) -> None:\n",
    "        self.store.append((level, msg))\n",
    "\n",
    "class Logger:\n",
    "    def __init__(self, level_filter: set[str], handlers: list[Handler]):\n",
    "        self.level_filter = set(level_filter)\n",
    "        self.handlers = list(handlers)\n",
    "    def log(self, level: str, msg: str) -> None:\n",
    "        if level not in self.level_filter:\n",
    "            return\n",
    "        for h in self.handlers:\n",
    "            h.emit(level, msg)\n",
    "\n",
    "mem = MemoryHandler()\n",
    "logger = Logger(level_filter={\"INFO\",\"ERROR\"}, handlers=[mem])\n",
    "logger.log(\"DEBUG\",\"x\")\n",
    "logger.log(\"INFO\",\"hello\")\n",
    "assert mem.store == [(\"INFO\",\"hello\")]\n",
    "print(\"Logger: OK\")"
   ]
  }
 ],
 "metadata": {},
 "nbformat": 4,
 "nbformat_minor": 5
}
