{
 "cells": [
  {
   "cell_type": "markdown",
   "id": "aa6e3b00",
   "metadata": {},
   "source": [
    "# 25 Python Exercises: Tuples\n",
    "Solve each task in the code cell below its description. No solutions are provided."
   ]
  },
  {
   "cell_type": "markdown",
   "id": "2d4acd1f",
   "metadata": {},
   "source": [
    "## 1) Tuple basics and indexing\n",
    "\n",
    "Create a tuple and demonstrate accessing the first and last elements."
   ]
  },
  {
   "cell_type": "code",
   "id": "f53924b4",
   "metadata": {
    "ExecuteTime": {
     "end_time": "2025-09-05T23:04:53.730351Z",
     "start_time": "2025-09-05T23:04:53.727189Z"
    }
   },
   "source": [
    "# Your code here\n",
    "def first_last(tup:tuple) -> int:\n",
    "    return tup[0], tup[-1]\n",
    "# You may write helper functions and tests below.\n",
    "assert first_last((1,2,3)) == (1,3)"
   ],
   "outputs": [],
   "execution_count": 3
  },
  {
   "cell_type": "markdown",
   "id": "a906c20c",
   "metadata": {},
   "source": [
    "## 2) Unpacking with starred\n",
    "\n",
    "Unpack a 5-element tuple into first, *middle, last."
   ]
  },
  {
   "cell_type": "code",
   "id": "ab613a00",
   "metadata": {
    "ExecuteTime": {
     "end_time": "2025-09-05T23:07:53.451971Z",
     "start_time": "2025-09-05T23:07:53.447720Z"
    }
   },
   "source": [
    "# Your code here\n",
    "def upacking(tup):\n",
    "    first, *middle,last=tup\n",
    "    return first, middle, last\n",
    "\n",
    "# You may write helper functions and tests below.\n",
    "assert upacking((10, 20, 30, 40, 50)) == (10, [20, 30, 40], 50)\n"
   ],
   "outputs": [],
   "execution_count": 5
  },
  {
   "cell_type": "markdown",
   "id": "df1cf915",
   "metadata": {},
   "source": [
    "## 3) Swap variables\n",
    "\n",
    "Swap two variables using tuple unpacking."
   ]
  },
  {
   "cell_type": "code",
   "id": "fc617357",
   "metadata": {
    "ExecuteTime": {
     "end_time": "2025-09-05T23:13:44.808693Z",
     "start_time": "2025-09-05T23:13:44.804614Z"
    }
   },
   "source": [
    "# Your code here\n",
    "def swap(tup):\n",
    "    if len(tup)==2:\n",
    "        a,b = tup\n",
    "        a,b = b,a\n",
    "        return a,b\n",
    "    else:\n",
    "        raise \"Tuple length must be 2\"\n",
    "# You may write helper functions and tests below.\n",
    "assert swap((1,2)) == (2,1)\n"
   ],
   "outputs": [],
   "execution_count": 6
  },
  {
   "cell_type": "markdown",
   "id": "2c640151",
   "metadata": {},
   "source": [
    "## 4) Concatenation and repetition\n",
    "\n",
    "Concatenate two tuples and repeat a tuple n times."
   ]
  },
  {
   "cell_type": "code",
   "id": "e4ad8552",
   "metadata": {
    "ExecuteTime": {
     "end_time": "2025-09-05T23:26:30.380507Z",
     "start_time": "2025-09-05T23:26:30.376799Z"
    }
   },
   "source": [
    "# Your code here\n",
    "def concat_repeat(tup1:tuple, tup2:tuple, n: int):\n",
    "    new_tup = tup1+tup2\n",
    "    new_tup_1 = new_tup * n\n",
    "    return new_tup_1\n",
    "\n",
    "# You may write helper functions and tests below.\n",
    "assert concat_repeat((1,2), (3,4), 2) == (1,2,3,4,1,2,3,4)\n"
   ],
   "outputs": [],
   "execution_count": 7
  },
  {
   "cell_type": "markdown",
   "id": "d1adc506",
   "metadata": {},
   "source": [
    "## 5) count() and index()\n",
    "\n",
    "Use tuple.count and tuple.index on a sample tuple and print results."
   ]
  },
  {
   "cell_type": "code",
   "id": "537bc8f2",
   "metadata": {
    "ExecuteTime": {
     "end_time": "2025-09-05T23:29:35.104751Z",
     "start_time": "2025-09-05T23:29:35.100108Z"
    }
   },
   "source": [
    "# Your code here\n",
    "def count_and_index(tup: tuple, n:int):\n",
    "    return tup.count(n), tup.index(n)\n",
    "\n",
    "# You may write helper functions and tests below.\n",
    "assert count_and_index((1,2,3), 2) == (1,1)\n",
    "assert count_and_index((1,2,3), 3) == (1,2)\n",
    "assert count_and_index((1,2,3,1,4,1), 1) == (3,0)\n"
   ],
   "outputs": [],
   "execution_count": 12
  },
  {
   "cell_type": "markdown",
   "id": "e3e76908",
   "metadata": {},
   "source": [
    "## 6) Membership test\n",
    "\n",
    "Check whether a value exists within a tuple and whether another does not."
   ]
  },
  {
   "cell_type": "code",
   "execution_count": null,
   "id": "f2fd2ce9",
   "metadata": {},
   "outputs": [],
   "source": [
    "# Your code here\n",
    "# You may write helper functions and tests below.\n"
   ]
  },
  {
   "cell_type": "markdown",
   "id": "176a0afa",
   "metadata": {},
   "source": [
    "## 7) List <-> Tuple conversion\n",
    "\n",
    "Convert a list to a tuple and back to a list."
   ]
  },
  {
   "cell_type": "code",
   "id": "3d253a00",
   "metadata": {
    "ExecuteTime": {
     "end_time": "2025-09-05T23:41:20.225014Z",
     "start_time": "2025-09-05T23:41:20.221745Z"
    }
   },
   "source": [
    "# Your code here\n",
    "def list_tup_conversion(lst):\n",
    "    return list(tuple(lst))\n",
    "\n",
    "# You may write helper functions and tests below.\n",
    "assert list_tup_conversion([1,2,3]) == [1,2,3]\n"
   ],
   "outputs": [],
   "execution_count": 14
  },
  {
   "cell_type": "markdown",
   "id": "833e0cee",
   "metadata": {},
   "source": [
    "## 8) Flatten tuple of tuples\n",
    "\n",
    "Flatten a tuple of tuples into a single tuple."
   ]
  },
  {
   "cell_type": "code",
   "id": "35ea298f",
   "metadata": {
    "ExecuteTime": {
     "end_time": "2025-09-05T23:40:12.490362Z",
     "start_time": "2025-09-05T23:40:12.486494Z"
    }
   },
   "source": [
    "# Your code here\n",
    "def flatten(tup):\n",
    "    flat = tuple(x for sub in tup for x in sub)\n",
    "    return flat\n",
    "# You may write helper functions and tests below.\n",
    "assert flatten(((1, 2), (3, 4), (5,))) == (1, 2, 3, 4, 5)\n"
   ],
   "outputs": [],
   "execution_count": 13
  },
  {
   "cell_type": "markdown",
   "id": "fbce4dd8",
   "metadata": {},
   "source": [
    "## 9) namedtuple demo\n",
    "\n",
    "Define a namedtuple 'Point(x, y)', create an instance, and access fields."
   ]
  },
  {
   "cell_type": "code",
   "execution_count": null,
   "id": "bfb40ba0",
   "metadata": {},
   "outputs": [],
   "source": [
    "# Your code here\n",
    "# You may write helper functions and tests below.\n"
   ]
  },
  {
   "cell_type": "markdown",
   "id": "a7b53bee",
   "metadata": {},
   "source": [
    "## 10) Tuple as dict key\n",
    "\n",
    "Use a tuple as a dictionary key and access the stored value."
   ]
  },
  {
   "cell_type": "code",
   "execution_count": null,
   "id": "03d4def1",
   "metadata": {},
   "outputs": [],
   "source": [
    "# Your code here\n",
    "# You may write helper functions and tests below.\n"
   ]
  },
  {
   "cell_type": "markdown",
   "id": "7d894eb8",
   "metadata": {},
   "source": [
    "## 11) Sort list of tuples by 2nd element\n",
    "\n",
    "Given a list of (key, value) tuples, sort by the second element."
   ]
  },
  {
   "cell_type": "code",
   "execution_count": null,
   "id": "da1524c7",
   "metadata": {},
   "outputs": [],
   "source": [
    "# Your code here\n",
    "# You may write helper functions and tests below.\n"
   ]
  },
  {
   "cell_type": "markdown",
   "id": "be4e0b14",
   "metadata": {},
   "source": [
    "## 12) Multiple assignment from list of tuples\n",
    "\n",
    "Iterate a list of (key, value) tuples and print 'key=value'."
   ]
  },
  {
   "cell_type": "code",
   "execution_count": null,
   "id": "85b4cd24",
   "metadata": {},
   "outputs": [],
   "source": [
    "# Your code here\n",
    "# You may write helper functions and tests below.\n"
   ]
  },
  {
   "cell_type": "markdown",
   "id": "54de7452",
   "metadata": {},
   "source": [
    "## 13) Function returns tuple\n",
    "\n",
    "Write a function that returns (min_value, max_value) for a numeric list."
   ]
  },
  {
   "cell_type": "code",
   "execution_count": null,
   "id": "5722dc88",
   "metadata": {},
   "outputs": [],
   "source": [
    "# Your code here\n",
    "# You may write helper functions and tests below.\n"
   ]
  },
  {
   "cell_type": "markdown",
   "id": "c5d3e3a8",
   "metadata": {},
   "source": [
    "## 14) zip -> list of tuples\n",
    "\n",
    "Combine two lists into a list of tuples using zip."
   ]
  },
  {
   "cell_type": "code",
   "execution_count": null,
   "id": "fb47078a",
   "metadata": {},
   "outputs": [],
   "source": [
    "# Your code here\n",
    "# You may write helper functions and tests below.\n"
   ]
  },
  {
   "cell_type": "markdown",
   "id": "560e3d63",
   "metadata": {},
   "source": [
    "## 15) enumerate -> (index, value) tuples\n",
    "\n",
    "Use enumerate to iterate characters with 1-based indices."
   ]
  },
  {
   "cell_type": "code",
   "execution_count": null,
   "id": "e189f20c",
   "metadata": {},
   "outputs": [],
   "source": [
    "# Your code here\n",
    "# You may write helper functions and tests below.\n"
   ]
  },
  {
   "cell_type": "markdown",
   "id": "aa5b7bcd",
   "metadata": {},
   "source": [
    "## 16) Tuple comparison (lexicographic)\n",
    "\n",
    "Compare two tuples lexicographically and print the result."
   ]
  },
  {
   "cell_type": "code",
   "execution_count": null,
   "id": "116a3e80",
   "metadata": {},
   "outputs": [],
   "source": [
    "# Your code here\n",
    "# You may write helper functions and tests below.\n"
   ]
  },
  {
   "cell_type": "markdown",
   "id": "518aaf32",
   "metadata": {},
   "source": [
    "## 17) Immutability demonstration\n",
    "\n",
    "Show that tuples are immutable by attempting an item assignment (expect error)."
   ]
  },
  {
   "cell_type": "code",
   "execution_count": null,
   "id": "0341d2ca",
   "metadata": {},
   "outputs": [],
   "source": [
    "# Your code here\n",
    "# You may write helper functions and tests below.\n"
   ]
  },
  {
   "cell_type": "markdown",
   "id": "096d36b5",
   "metadata": {},
   "source": [
    "## 18) Slicing tuples\n",
    "\n",
    "Slice a tuple to select every second element from a range."
   ]
  },
  {
   "cell_type": "code",
   "execution_count": null,
   "id": "2e8849fd",
   "metadata": {},
   "outputs": [],
   "source": [
    "# Your code here\n",
    "# You may write helper functions and tests below.\n"
   ]
  },
  {
   "cell_type": "markdown",
   "id": "dd3574d4",
   "metadata": {},
   "source": [
    "## 19) Generator -> tuple()\n",
    "\n",
    "Build a tuple from a generator (e.g., squares of 0..n)."
   ]
  },
  {
   "cell_type": "code",
   "execution_count": null,
   "id": "dad25f6a",
   "metadata": {},
   "outputs": [],
   "source": [
    "# Your code here\n",
    "# You may write helper functions and tests below.\n"
   ]
  },
  {
   "cell_type": "markdown",
   "id": "7609a19b",
   "metadata": {},
   "source": [
    "## 20) Replace element via new tuple\n",
    "\n",
    "Replace one element by creating a new tuple using slicing and concatenation."
   ]
  },
  {
   "cell_type": "code",
   "execution_count": null,
   "id": "d98f9d64",
   "metadata": {},
   "outputs": [],
   "source": [
    "# Your code here\n",
    "# You may write helper functions and tests below.\n"
   ]
  },
  {
   "cell_type": "markdown",
   "id": "8f6de16e",
   "metadata": {},
   "source": [
    "## 21) Unique tuples using set\n",
    "\n",
    "Remove duplicate tuples from a list using set."
   ]
  },
  {
   "cell_type": "code",
   "execution_count": null,
   "id": "99eaaaee",
   "metadata": {},
   "outputs": [],
   "source": [
    "# Your code here\n",
    "# You may write helper functions and tests below.\n"
   ]
  },
  {
   "cell_type": "markdown",
   "id": "7b6449e4",
   "metadata": {},
   "source": [
    "## 22) Cartesian product\n",
    "\n",
    "Create the Cartesian product of two small sequences as a list of tuples."
   ]
  },
  {
   "cell_type": "code",
   "execution_count": null,
   "id": "bd3f2736",
   "metadata": {},
   "outputs": [],
   "source": [
    "# Your code here\n",
    "# You may write helper functions and tests below.\n"
   ]
  },
  {
   "cell_type": "markdown",
   "id": "ef071a8d",
   "metadata": {},
   "source": [
    "## 23) Unzip list of tuples\n",
    "\n",
    "Given a list of pairs, unzip into two separate lists."
   ]
  },
  {
   "cell_type": "code",
   "execution_count": null,
   "id": "410db09f",
   "metadata": {},
   "outputs": [],
   "source": [
    "# Your code here\n",
    "# You may write helper functions and tests below.\n"
   ]
  },
  {
   "cell_type": "markdown",
   "id": "dc951f89",
   "metadata": {},
   "source": [
    "## 24) *args is a tuple\n",
    "\n",
    "Write a function that prints its *args and their type."
   ]
  },
  {
   "cell_type": "code",
   "execution_count": null,
   "id": "1dcffb8f",
   "metadata": {},
   "outputs": [],
   "source": [
    "# Your code here\n",
    "# You may write helper functions and tests below.\n"
   ]
  },
  {
   "cell_type": "markdown",
   "id": "ba266a8a",
   "metadata": {},
   "source": [
    "## 25) namedtuple defaults and _replace\n",
    "\n",
    "Give a namedtuple default values and create a modified copy with _replace."
   ]
  },
  {
   "cell_type": "code",
   "execution_count": null,
   "id": "5cff9f09",
   "metadata": {},
   "outputs": [],
   "source": [
    "# Your code here\n",
    "# You may write helper functions and tests below.\n"
   ]
  }
 ],
 "metadata": {
  "kernelspec": {
   "display_name": "Python 3",
   "language": "python",
   "name": "python3"
  },
  "language_info": {
   "name": "python",
   "version": "3"
  }
 },
 "nbformat": 4,
 "nbformat_minor": 5
}
