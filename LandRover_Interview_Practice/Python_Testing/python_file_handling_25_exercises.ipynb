{
 "cells": [
  {
   "cell_type": "markdown",
   "id": "453007cb",
   "metadata": {},
   "source": [
    "# 25 Python Exercises: File Handling\n",
    "A setup cell creates sample files. Solve each task in the code cell below its description. No solutions are provided."
   ]
  },
  {
   "cell_type": "markdown",
   "id": "39c1ceb6",
   "metadata": {},
   "source": [
    "## 0) Setup: create demo folder and sample files"
   ]
  },
  {
   "cell_type": "code",
   "execution_count": null,
   "id": "4dd708ab",
   "metadata": {},
   "outputs": [],
   "source": [
    "from pathlib import Path\n",
    "base = Path('files_demo'); base.mkdir(exist_ok=True)\n",
    "(base/'sample.txt').write_text('Hello\\nWorld\\nHello again!\\n', encoding='utf-8')\n",
    "(base/'data.csv').write_text('id,name,age\\n1,Ann,30\\n2,Bob,25\\n', encoding='utf-8')\n",
    "print('Created', base.resolve())\n"
   ]
  },
  {
   "cell_type": "markdown",
   "id": "8b7b033a",
   "metadata": {},
   "source": [
    "## 1) Read entire file\n",
    "\n",
    "Read and print the entire contents of files_demo/sample.txt."
   ]
  },
  {
   "cell_type": "code",
   "execution_count": null,
   "id": "8ea256a4",
   "metadata": {},
   "outputs": [],
   "source": [
    "# Your code here\n",
    "# You may write helper functions and tests below.\n"
   ]
  },
  {
   "cell_type": "markdown",
   "id": "83e6bc1b",
   "metadata": {},
   "source": [
    "## 2) Read line by line\n",
    "\n",
    "Print each line of files_demo/sample.txt without trailing newlines."
   ]
  },
  {
   "cell_type": "code",
   "execution_count": null,
   "id": "639f1be4",
   "metadata": {},
   "outputs": [],
   "source": [
    "# Your code here\n",
    "# You may write helper functions and tests below.\n"
   ]
  },
  {
   "cell_type": "markdown",
   "id": "a1e49680",
   "metadata": {},
   "source": [
    "## 3) Write text (overwrite)\n",
    "\n",
    "Create files_demo/out.txt and write one line to it (overwriting if exists)."
   ]
  },
  {
   "cell_type": "code",
   "execution_count": null,
   "id": "674da3cb",
   "metadata": {},
   "outputs": [],
   "source": [
    "# Your code here\n",
    "# You may write helper functions and tests below.\n"
   ]
  },
  {
   "cell_type": "markdown",
   "id": "f4a1f269",
   "metadata": {},
   "source": [
    "## 4) Append text\n",
    "\n",
    "Append another line to files_demo/out.txt and then read it back."
   ]
  },
  {
   "cell_type": "code",
   "execution_count": null,
   "id": "dc7b7c87",
   "metadata": {},
   "outputs": [],
   "source": [
    "# Your code here\n",
    "# You may write helper functions and tests below.\n"
   ]
  },
  {
   "cell_type": "markdown",
   "id": "df16183f",
   "metadata": {},
   "source": [
    "## 5) Count lines/words/chars\n",
    "\n",
    "Count number of lines, words, and characters in files_demo/sample.txt."
   ]
  },
  {
   "cell_type": "code",
   "execution_count": null,
   "id": "3d67443d",
   "metadata": {},
   "outputs": [],
   "source": [
    "# Your code here\n",
    "# You may write helper functions and tests below.\n"
   ]
  },
  {
   "cell_type": "markdown",
   "id": "1a5703b5",
   "metadata": {},
   "source": [
    "## 6) CSV read (csv.reader)\n",
    "\n",
    "Read files_demo/data.csv using csv.reader and print rows."
   ]
  },
  {
   "cell_type": "code",
   "execution_count": null,
   "id": "57bb867d",
   "metadata": {},
   "outputs": [],
   "source": [
    "# Your code here\n",
    "# You may write helper functions and tests below.\n"
   ]
  },
  {
   "cell_type": "markdown",
   "id": "e50ac7d2",
   "metadata": {},
   "source": [
    "## 7) CSV read as dicts\n",
    "\n",
    "Read files_demo/data.csv using csv.DictReader and print dict rows."
   ]
  },
  {
   "cell_type": "code",
   "execution_count": null,
   "id": "b3fc4288",
   "metadata": {},
   "outputs": [],
   "source": [
    "# Your code here\n",
    "# You may write helper functions and tests below.\n"
   ]
  },
  {
   "cell_type": "markdown",
   "id": "84425d8a",
   "metadata": {},
   "source": [
    "## 8) CSV write (DictWriter)\n",
    "\n",
    "Write a new row to files_demo/out.csv with headers id,name,age."
   ]
  },
  {
   "cell_type": "code",
   "execution_count": null,
   "id": "74f5a56d",
   "metadata": {},
   "outputs": [],
   "source": [
    "# Your code here\n",
    "# You may write helper functions and tests below.\n"
   ]
  },
  {
   "cell_type": "markdown",
   "id": "166bdac4",
   "metadata": {},
   "source": [
    "## 9) JSON read/write\n",
    "\n",
    "Write a small dict to files_demo/conf.json and read it back."
   ]
  },
  {
   "cell_type": "code",
   "execution_count": null,
   "id": "2ab96b87",
   "metadata": {},
   "outputs": [],
   "source": [
    "# Your code here\n",
    "# You may write helper functions and tests below.\n"
   ]
  },
  {
   "cell_type": "markdown",
   "id": "7afa6a35",
   "metadata": {},
   "source": [
    "## 10) Pickle serialize\n",
    "\n",
    "Pickle an object to files_demo/obj.pkl and load it back."
   ]
  },
  {
   "cell_type": "code",
   "execution_count": null,
   "id": "28db4e50",
   "metadata": {},
   "outputs": [],
   "source": [
    "# Your code here\n",
    "# You may write helper functions and tests below.\n"
   ]
  },
  {
   "cell_type": "markdown",
   "id": "f100c274",
   "metadata": {},
   "source": [
    "## 11) List .txt files (glob)\n",
    "\n",
    "List all .txt files in files_demo using pathlib.glob."
   ]
  },
  {
   "cell_type": "code",
   "execution_count": null,
   "id": "fb1d9c27",
   "metadata": {},
   "outputs": [],
   "source": [
    "# Your code here\n",
    "# You may write helper functions and tests below.\n"
   ]
  },
  {
   "cell_type": "markdown",
   "id": "274a5d0e",
   "metadata": {},
   "source": [
    "## 12) Read file in chunks\n",
    "\n",
    "Read files_demo/sample.txt in fixed-size byte chunks and print them."
   ]
  },
  {
   "cell_type": "code",
   "execution_count": null,
   "id": "f7513949",
   "metadata": {},
   "outputs": [],
   "source": [
    "# Your code here\n",
    "# You may write helper functions and tests below.\n"
   ]
  },
  {
   "cell_type": "markdown",
   "id": "08219b7d",
   "metadata": {},
   "source": [
    "## 13) Compute SHA256\n",
    "\n",
    "Compute and print the SHA256 hash of files_demo/sample.txt."
   ]
  },
  {
   "cell_type": "code",
   "execution_count": null,
   "id": "ac276411",
   "metadata": {},
   "outputs": [],
   "source": [
    "# Your code here\n",
    "# You may write helper functions and tests below.\n"
   ]
  },
  {
   "cell_type": "markdown",
   "id": "bf8d4121",
   "metadata": {},
   "source": [
    "## 14) Copy file\n",
    "\n",
    "Copy files_demo/sample.txt to files_demo/copy.txt."
   ]
  },
  {
   "cell_type": "code",
   "execution_count": null,
   "id": "293983b1",
   "metadata": {},
   "outputs": [],
   "source": [
    "# Your code here\n",
    "# You may write helper functions and tests below.\n"
   ]
  },
  {
   "cell_type": "markdown",
   "id": "aae6b9e8",
   "metadata": {},
   "source": [
    "## 15) Move/Rename file\n",
    "\n",
    "Move files_demo/copy.txt to files_demo/moved.txt."
   ]
  },
  {
   "cell_type": "code",
   "execution_count": null,
   "id": "98006ef1",
   "metadata": {},
   "outputs": [],
   "source": [
    "# Your code here\n",
    "# You may write helper functions and tests below.\n"
   ]
  },
  {
   "cell_type": "markdown",
   "id": "6d4d5341",
   "metadata": {},
   "source": [
    "## 16) Delete file safely\n",
    "\n",
    "Create files_demo/temp.txt then delete it if it exists."
   ]
  },
  {
   "cell_type": "code",
   "execution_count": null,
   "id": "9d8cf381",
   "metadata": {},
   "outputs": [],
   "source": [
    "# Your code here\n",
    "# You may write helper functions and tests below.\n"
   ]
  },
  {
   "cell_type": "markdown",
   "id": "79a59754",
   "metadata": {},
   "source": [
    "## 17) Zip files\n",
    "\n",
    "Create files_demo/archive.zip containing files in files_demo (exclude the zip itself)."
   ]
  },
  {
   "cell_type": "code",
   "execution_count": null,
   "id": "798263d8",
   "metadata": {},
   "outputs": [],
   "source": [
    "# Your code here\n",
    "# You may write helper functions and tests below.\n"
   ]
  },
  {
   "cell_type": "markdown",
   "id": "8a7bf7f6",
   "metadata": {},
   "source": [
    "## 18) List zip contents\n",
    "\n",
    "List the entries inside files_demo/archive.zip."
   ]
  },
  {
   "cell_type": "code",
   "execution_count": null,
   "id": "08ed41eb",
   "metadata": {},
   "outputs": [],
   "source": [
    "# Your code here\n",
    "# You may write helper functions and tests below.\n"
   ]
  },
  {
   "cell_type": "markdown",
   "id": "0ed75535",
   "metadata": {},
   "source": [
    "## 19) Gzip compress & read\n",
    "\n",
    "Write text to files_demo/gz.txt.gz with gzip, then read it back."
   ]
  },
  {
   "cell_type": "code",
   "execution_count": null,
   "id": "3ac2ff06",
   "metadata": {},
   "outputs": [],
   "source": [
    "# Your code here\n",
    "# You may write helper functions and tests below.\n"
   ]
  },
  {
   "cell_type": "markdown",
   "id": "9afda047",
   "metadata": {},
   "source": [
    "## 20) Tar archive\n",
    "\n",
    "Create a gzipped tar archive files_demo/archive.tar.gz of the files_demo folder."
   ]
  },
  {
   "cell_type": "code",
   "execution_count": null,
   "id": "baab8fc1",
   "metadata": {},
   "outputs": [],
   "source": [
    "# Your code here\n",
    "# You may write helper functions and tests below.\n"
   ]
  },
  {
   "cell_type": "markdown",
   "id": "2e825421",
   "metadata": {},
   "source": [
    "## 21) Temporary file\n",
    "\n",
    "Create a temporary file, write text, read it back, and remove it."
   ]
  },
  {
   "cell_type": "code",
   "execution_count": null,
   "id": "1f56db0d",
   "metadata": {},
   "outputs": [],
   "source": [
    "# Your code here\n",
    "# You may write helper functions and tests below.\n"
   ]
  },
  {
   "cell_type": "markdown",
   "id": "28efca76",
   "metadata": {},
   "source": [
    "## 22) Write/read binary\n",
    "\n",
    "Read bytes from files_demo/obj.pkl and write them to files_demo/obj_copy.pkl."
   ]
  },
  {
   "cell_type": "code",
   "execution_count": null,
   "id": "877f24fb",
   "metadata": {},
   "outputs": [],
   "source": [
    "# Your code here\n",
    "# You may write helper functions and tests below.\n"
   ]
  },
  {
   "cell_type": "markdown",
   "id": "4ab05a65",
   "metadata": {},
   "source": [
    "## 23) Iterate directory tree\n",
    "\n",
    "Recursively list files_demo contents using rglob."
   ]
  },
  {
   "cell_type": "code",
   "execution_count": null,
   "id": "225dfd3f",
   "metadata": {},
   "outputs": [],
   "source": [
    "# Your code here\n",
    "# You may write helper functions and tests below.\n"
   ]
  },
  {
   "cell_type": "markdown",
   "id": "d087575e",
   "metadata": {},
   "source": [
    "## 24) Stat info\n",
    "\n",
    "Print the size and modification time of files_demo/sample.txt."
   ]
  },
  {
   "cell_type": "code",
   "execution_count": null,
   "id": "0468334d",
   "metadata": {},
   "outputs": [],
   "source": [
    "# Your code here\n",
    "# You may write helper functions and tests below.\n"
   ]
  },
  {
   "cell_type": "markdown",
   "id": "78c200ca",
   "metadata": {},
   "source": [
    "## 25) Path join & existence\n",
    "\n",
    "Join paths with pathlib and check existence of files."
   ]
  },
  {
   "cell_type": "code",
   "execution_count": null,
   "id": "807d2e22",
   "metadata": {},
   "outputs": [],
   "source": [
    "# Your code here\n",
    "# You may write helper functions and tests below.\n"
   ]
  }
 ],
 "metadata": {
  "kernelspec": {
   "display_name": "Python 3",
   "language": "python",
   "name": "python3"
  },
  "language_info": {
   "name": "python",
   "version": "3"
  }
 },
 "nbformat": 4,
 "nbformat_minor": 5
}