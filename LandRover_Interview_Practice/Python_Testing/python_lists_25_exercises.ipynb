{
 "cells": [
  {
   "cell_type": "markdown",
   "id": "32da8053",
   "metadata": {},
   "source": [
    "# 25 Python Exercises: Lists\n",
    "Solve each task in the code cell below its description. No solutions are provided."
   ]
  },
  {
   "cell_type": "markdown",
   "id": "f36bd66a",
   "metadata": {},
   "source": [
    "## 1) Sum of numbers\n",
    "\n",
    "Write a function that returns the sum of all numbers in a list."
   ]
  },
  {
   "cell_type": "code",
   "id": "a698ceb6",
   "metadata": {
    "ExecuteTime": {
     "end_time": "2025-09-05T22:14:38.137339Z",
     "start_time": "2025-09-05T22:14:38.133328Z"
    }
   },
   "source": [
    "from functools import reduce\n",
    "def sum_of_numbers_in_list(lst: list[int]) -> int:\n",
    "    return reduce((lambda x,y : x+y), lst)\n",
    "    # return sum(lst)\n",
    "\n",
    "# You may write helper functions and tests below.\n",
    "assert sum_of_numbers_in_list([1,2,3]) == 6\n"
   ],
   "outputs": [],
   "execution_count": 20
  },
  {
   "cell_type": "markdown",
   "id": "b55df75b",
   "metadata": {},
   "source": [
    "## 2) Product of numbers\n",
    "\n",
    "Compute the product of all numbers in a list (treat empty list as 1)."
   ]
  },
  {
   "cell_type": "code",
   "id": "e485a0b1",
   "metadata": {
    "ExecuteTime": {
     "end_time": "2025-09-05T22:15:13.972915Z",
     "start_time": "2025-09-05T22:15:13.969378Z"
    }
   },
   "source": [
    "from functools import reduce\n",
    "def product_of_numbers_in_list(lst: list[int]) -> int:\n",
    "    return reduce((lambda x,y : x*y), lst)\n",
    "\n",
    "# You may write helper functions and tests below.\n",
    "assert product_of_numbers_in_list([1,2,3,4]) == 24\n"
   ],
   "outputs": [],
   "execution_count": 22
  },
  {
   "cell_type": "markdown",
   "id": "feea6e32",
   "metadata": {},
   "source": [
    "## 3) Find max and min\n",
    "\n",
    "Given a list of integers, return a tuple (max_value, min_value)."
   ]
  },
  {
   "cell_type": "code",
   "id": "47cf21d5",
   "metadata": {
    "ExecuteTime": {
     "end_time": "2025-09-05T22:15:55.557187Z",
     "start_time": "2025-09-05T22:15:55.553333Z"
    }
   },
   "source": [
    "# Your code here\n",
    "def find_max_min(lst: list[int]) -> int:\n",
    "    return [min(lst), max(lst)]\n",
    "\n",
    "# You may write helper functions and tests below.\n",
    "assert find_max_min([2,4,3,6,5]) == [2, 6]\n"
   ],
   "outputs": [],
   "execution_count": 23
  },
  {
   "cell_type": "markdown",
   "id": "e4911950",
   "metadata": {},
   "source": [
    "## 4) Remove duplicates (preserve order)\n",
    "\n",
    "Remove duplicates from a list while preserving the first occurrence order."
   ]
  },
  {
   "metadata": {},
   "cell_type": "code",
   "outputs": [],
   "execution_count": null,
   "source": "",
   "id": "f44ef9491d7aaef6"
  },
  {
   "cell_type": "code",
   "id": "c18039d9",
   "metadata": {
    "ExecuteTime": {
     "end_time": "2025-09-05T22:41:52.015697Z",
     "start_time": "2025-09-05T22:41:52.011322Z"
    }
   },
   "source": [
    "# Your code here\n",
    "def remove_dups(lst):\n",
    "    new_lst = []\n",
    "    for i in lst:\n",
    "        if i in new_lst:\n",
    "            continue\n",
    "        else:\n",
    "            new_lst.append(i)\n",
    "    return new_lst\n",
    "\n",
    "# You may write helper functions and tests below.\n",
    "assert remove_dups([1,3,4,2,2,1]) == [1,3,4,2]\n",
    "assert remove_dups([[1], [2], [1], [2], [3]]) == [[1], [2], [3]]\n",
    "assert remove_dups([1, 2, 2, 3, 1, 4, 3]) == [1, 2, 3, 4]\n"
   ],
   "outputs": [],
   "execution_count": 29
  },
  {
   "cell_type": "markdown",
   "id": "43e49339",
   "metadata": {},
   "source": [
    "## 5) Squares with list comprehension\n",
    "\n",
    "Create a list of squares for numbers 0..n (inclusive)."
   ]
  },
  {
   "cell_type": "code",
   "id": "a5dd7473",
   "metadata": {
    "ExecuteTime": {
     "end_time": "2025-09-05T22:47:23.883701Z",
     "start_time": "2025-09-05T22:47:23.880314Z"
    }
   },
   "source": [
    "# Your code here\n",
    "def square_lst(n:int) -> list:\n",
    "    return [x**2 for x in range(1, n+1)]\n",
    "\n",
    "# You may write helper functions and tests below.\n",
    "assert square_lst(5) == [1, 4, 9, 16, 25]\n"
   ],
   "outputs": [],
   "execution_count": 31
  },
  {
   "cell_type": "markdown",
   "id": "4cc170c9",
   "metadata": {},
   "source": [
    "## 6) Filter even numbers\n",
    "\n",
    "Return a new list containing only the even numbers from the input list."
   ]
  },
  {
   "cell_type": "code",
   "id": "07054422",
   "metadata": {
    "ExecuteTime": {
     "end_time": "2025-09-05T22:50:55.321941Z",
     "start_time": "2025-09-05T22:50:55.317376Z"
    }
   },
   "source": [
    "# Your code here\n",
    "def only_even_number(lst:list) -> list:\n",
    "    return list(filter((lambda x:x%2==0), lst))\n",
    "\n",
    "# You may write helper functions and tests below.\n",
    "assert only_even_number([1,2,3,4,5,6,7,8,9,10]) == [2,4,6,8,10]"
   ],
   "outputs": [],
   "execution_count": 32
  },
  {
   "cell_type": "markdown",
   "id": "e9fe9028",
   "metadata": {},
   "source": [
    "## 7) Flatten one level of nesting\n",
    "\n",
    "Flatten a list of lists by one level (e.g., [[1,2],[3]] -> [1,2,3])."
   ]
  },
  {
   "cell_type": "code",
   "execution_count": null,
   "id": "ff159d1e",
   "metadata": {},
   "outputs": [],
   "source": [
    "# Your code here\n",
    "# You may write helper functions and tests below.\n"
   ]
  },
  {
   "cell_type": "markdown",
   "id": "0b24395b",
   "metadata": {},
   "source": [
    "## 8) Chunk a list into size k\n",
    "\n",
    "Split a list into consecutive chunks of length k (last chunk may be shorter)."
   ]
  },
  {
   "cell_type": "code",
   "execution_count": null,
   "id": "362c2a1a",
   "metadata": {},
   "outputs": [],
   "source": [
    "# Your code here\n",
    "# You may write helper functions and tests below.\n"
   ]
  },
  {
   "cell_type": "markdown",
   "id": "72397de2",
   "metadata": {},
   "source": [
    "## 9) Rotate list by k (right)\n",
    "\n",
    "Rotate a list to the right by k steps."
   ]
  },
  {
   "cell_type": "code",
   "execution_count": null,
   "id": "8eb88ba1",
   "metadata": {},
   "outputs": [],
   "source": [
    "# Your code here\n",
    "# You may write helper functions and tests below.\n"
   ]
  },
  {
   "cell_type": "markdown",
   "id": "d9255eab",
   "metadata": {},
   "source": [
    "## 10) Second largest (unique)\n",
    "\n",
    "Return the second largest unique value in a list."
   ]
  },
  {
   "cell_type": "code",
   "execution_count": null,
   "id": "e794b49d",
   "metadata": {},
   "outputs": [],
   "source": [
    "# Your code here\n",
    "# You may write helper functions and tests below.\n"
   ]
  },
  {
   "cell_type": "markdown",
   "id": "2ba58dba",
   "metadata": {},
   "source": [
    "## 11) Merge two sorted lists\n",
    "\n",
    "Merge two sorted lists into a single sorted list (without using sort on the final result)."
   ]
  },
  {
   "cell_type": "code",
   "execution_count": null,
   "id": "47d8af0d",
   "metadata": {},
   "outputs": [],
   "source": [
    "# Your code here\n",
    "# You may write helper functions and tests below.\n"
   ]
  },
  {
   "cell_type": "markdown",
   "id": "dbf28bb7",
   "metadata": {},
   "source": [
    "## 12) All indices of a value\n",
    "\n",
    "Return a list of all indices where a target value occurs in the list."
   ]
  },
  {
   "cell_type": "code",
   "execution_count": null,
   "id": "f927bacc",
   "metadata": {},
   "outputs": [],
   "source": [
    "# Your code here\n",
    "# You may write helper functions and tests below.\n"
   ]
  },
  {
   "cell_type": "markdown",
   "id": "e9609581",
   "metadata": {},
   "source": [
    "## 13) Word counts (Counter-like)\n",
    "\n",
    "Given a list of words, produce a dictionary mapping word->count."
   ]
  },
  {
   "cell_type": "code",
   "execution_count": null,
   "id": "047d7134",
   "metadata": {},
   "outputs": [],
   "source": [
    "# Your code here\n",
    "# You may write helper functions and tests below.\n"
   ]
  },
  {
   "cell_type": "markdown",
   "id": "3884f61c",
   "metadata": {},
   "source": [
    "## 14) Intersection of two lists (unique)\n",
    "\n",
    "Return the sorted unique intersection of two lists."
   ]
  },
  {
   "cell_type": "code",
   "execution_count": null,
   "id": "ea2ec924",
   "metadata": {},
   "outputs": [],
   "source": [
    "# Your code here\n",
    "# You may write helper functions and tests below.\n"
   ]
  },
  {
   "cell_type": "markdown",
   "id": "440b89e7",
   "metadata": {},
   "source": [
    "## 15) Difference of lists\n",
    "\n",
    "Return elements that are in list A but not in list B (preserve order)."
   ]
  },
  {
   "cell_type": "code",
   "execution_count": null,
   "id": "f577949a",
   "metadata": {},
   "outputs": [],
   "source": [
    "# Your code here\n",
    "# You may write helper functions and tests below.\n"
   ]
  },
  {
   "cell_type": "markdown",
   "id": "1716abe9",
   "metadata": {},
   "source": [
    "## 16) Split list into N nearly-equal parts\n",
    "\n",
    "Split a list into N parts where lengths differ by at most 1."
   ]
  },
  {
   "cell_type": "code",
   "execution_count": null,
   "id": "27e4e495",
   "metadata": {},
   "outputs": [],
   "source": [
    "# Your code here\n",
    "# You may write helper functions and tests below.\n"
   ]
  },
  {
   "cell_type": "markdown",
   "id": "09f339a5",
   "metadata": {},
   "source": [
    "## 17) Sort list of dicts by key\n",
    "\n",
    "Sort a list of dictionaries by the key 'age' ascending."
   ]
  },
  {
   "cell_type": "code",
   "execution_count": null,
   "id": "aed4550a",
   "metadata": {},
   "outputs": [],
   "source": [
    "# Your code here\n",
    "# You may write helper functions and tests below.\n"
   ]
  },
  {
   "cell_type": "markdown",
   "id": "15100a23",
   "metadata": {},
   "source": [
    "## 18) Zip and unzip lists\n",
    "\n",
    "Pair two lists into a list of tuples, then unzip back to the originals."
   ]
  },
  {
   "cell_type": "code",
   "execution_count": null,
   "id": "423c3079",
   "metadata": {},
   "outputs": [],
   "source": [
    "# Your code here\n",
    "# You may write helper functions and tests below.\n"
   ]
  },
  {
   "cell_type": "markdown",
   "id": "55c43cc8",
   "metadata": {},
   "source": [
    "## 19) Shuffle and sample\n",
    "\n",
    "Randomly shuffle a list in place, then return a random sample of k elements."
   ]
  },
  {
   "cell_type": "code",
   "execution_count": null,
   "id": "3237d52d",
   "metadata": {},
   "outputs": [],
   "source": [
    "# Your code here\n",
    "# You may write helper functions and tests below.\n"
   ]
  },
  {
   "cell_type": "markdown",
   "id": "835169fe",
   "metadata": {},
   "source": [
    "## 20) Remove falsy values\n",
    "\n",
    "Return a list with all falsy values removed (e.g., 0, '', None, [], False)."
   ]
  },
  {
   "cell_type": "code",
   "execution_count": null,
   "id": "5d735c04",
   "metadata": {},
   "outputs": [],
   "source": [
    "# Your code here\n",
    "# You may write helper functions and tests below.\n"
   ]
  },
  {
   "cell_type": "markdown",
   "id": "f2b1821f",
   "metadata": {},
   "source": [
    "## 21) Running totals\n",
    "\n",
    "Return a list of running totals for a list of numbers."
   ]
  },
  {
   "cell_type": "code",
   "execution_count": null,
   "id": "c57ab1ad",
   "metadata": {},
   "outputs": [],
   "source": [
    "# Your code here\n",
    "# You may write helper functions and tests below.\n"
   ]
  },
  {
   "cell_type": "markdown",
   "id": "f1c50370",
   "metadata": {},
   "source": [
    "## 22) Deduplicate list of dicts by key\n",
    "\n",
    "Given a list of dicts with 'id', keep only the first occurrence of each unique id."
   ]
  },
  {
   "cell_type": "code",
   "execution_count": null,
   "id": "fa5a9e85",
   "metadata": {},
   "outputs": [],
   "source": [
    "# Your code here\n",
    "# You may write helper functions and tests below.\n"
   ]
  },
  {
   "cell_type": "markdown",
   "id": "17891870",
   "metadata": {},
   "source": [
    "## 23) Group words by length\n",
    "\n",
    "Group a list of words into a dict: length -> list of words with that length."
   ]
  },
  {
   "cell_type": "code",
   "execution_count": null,
   "id": "3b1fa549",
   "metadata": {},
   "outputs": [],
   "source": [
    "# Your code here\n",
    "# You may write helper functions and tests below.\n"
   ]
  },
  {
   "cell_type": "markdown",
   "id": "f4b97f34",
   "metadata": {},
   "source": [
    "## 24) Partition by predicate\n",
    "\n",
    "Partition a list into (items where predicate is True, items where it is False)."
   ]
  },
  {
   "cell_type": "code",
   "execution_count": null,
   "id": "7d78f256",
   "metadata": {},
   "outputs": [],
   "source": [
    "# Your code here\n",
    "# You may write helper functions and tests below.\n"
   ]
  },
  {
   "cell_type": "markdown",
   "id": "287084fd",
   "metadata": {},
   "source": [
    "## 25) Binary search insert position\n",
    "\n",
    "Return the insertion index for x in a sorted list using binary search."
   ]
  },
  {
   "cell_type": "code",
   "execution_count": null,
   "id": "ef587d7d",
   "metadata": {},
   "outputs": [],
   "source": [
    "# Your code here\n",
    "# You may write helper functions and tests below.\n"
   ]
  }
 ],
 "metadata": {
  "kernelspec": {
   "display_name": "Python 3",
   "language": "python",
   "name": "python3"
  },
  "language_info": {
   "name": "python",
   "version": "3"
  }
 },
 "nbformat": 4,
 "nbformat_minor": 5
}
