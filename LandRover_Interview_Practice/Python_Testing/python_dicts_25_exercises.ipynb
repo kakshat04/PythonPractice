{
 "cells": [
  {
   "cell_type": "markdown",
   "id": "4c08ecba",
   "metadata": {},
   "source": [
    "# 25 Python Exercises: Dictionaries\n",
    "Solve each task in the code cell below its description. No solutions are provided."
   ]
  },
  {
   "cell_type": "markdown",
   "id": "a18eb309",
   "metadata": {},
   "source": [
    "## 1) Create and access\n",
    "\n",
    "Create a dictionary with keys 'user' and 'id' and print both values."
   ]
  },
  {
   "cell_type": "code",
   "execution_count": null,
   "id": "f0dba363",
   "metadata": {},
   "outputs": [],
   "source": [
    "# Your code here\n",
    "# You may write helper functions and tests below.\n"
   ]
  },
  {
   "cell_type": "markdown",
   "id": "f7a98a8b",
   "metadata": {},
   "source": [
    "## 2) Insert/update and delete\n",
    "\n",
    "Insert a key, update it, then delete it and print the intermediate states."
   ]
  },
  {
   "cell_type": "code",
   "execution_count": null,
   "id": "b835bbd4",
   "metadata": {},
   "outputs": [],
   "source": [
    "# Your code here\n",
    "# You may write helper functions and tests below.\n"
   ]
  },
  {
   "cell_type": "markdown",
   "id": "0548f515",
   "metadata": {},
   "source": [
    "## 3) Dict comprehension (squares)\n",
    "\n",
    "Build a dict mapping numbers to their squares for 1..n."
   ]
  },
  {
   "cell_type": "code",
   "execution_count": null,
   "id": "514779a7",
   "metadata": {},
   "outputs": [],
   "source": [
    "# Your code here\n",
    "# You may write helper functions and tests below.\n"
   ]
  },
  {
   "cell_type": "markdown",
   "id": "4ebef11e",
   "metadata": {},
   "source": [
    "## 4) Merge dicts (| and |=)\n",
    "\n",
    "Merge two dicts using '|' and update one in place using '|='."
   ]
  },
  {
   "cell_type": "code",
   "execution_count": null,
   "id": "d5c7c9b6",
   "metadata": {},
   "outputs": [],
   "source": [
    "# Your code here\n",
    "# You may write helper functions and tests below.\n"
   ]
  },
  {
   "cell_type": "markdown",
   "id": "5f84bdfe",
   "metadata": {},
   "source": [
    "## 5) Counting words\n",
    "\n",
    "Given a sentence, produce a word->count dictionary."
   ]
  },
  {
   "cell_type": "code",
   "execution_count": null,
   "id": "bb257439",
   "metadata": {},
   "outputs": [],
   "source": [
    "# Your code here\n",
    "# You may write helper functions and tests below.\n"
   ]
  },
  {
   "cell_type": "markdown",
   "id": "c6d20b01",
   "metadata": {},
   "source": [
    "## 6) Group items by key (setdefault)\n",
    "\n",
    "Group pairs (k,v) into a dict of lists using setdefault."
   ]
  },
  {
   "cell_type": "code",
   "execution_count": null,
   "id": "8b877a75",
   "metadata": {},
   "outputs": [],
   "source": [
    "# Your code here\n",
    "# You may write helper functions and tests below.\n"
   ]
  },
  {
   "cell_type": "markdown",
   "id": "08cc900b",
   "metadata": {},
   "source": [
    "## 7) defaultdict for grouping\n",
    "\n",
    "Repeat the previous grouping using collections.defaultdict(list)."
   ]
  },
  {
   "cell_type": "code",
   "execution_count": null,
   "id": "411c9035",
   "metadata": {},
   "outputs": [],
   "source": [
    "# Your code here\n",
    "# You may write helper functions and tests below.\n"
   ]
  },
  {
   "cell_type": "markdown",
   "id": "5aaffda2",
   "metadata": {},
   "source": [
    "## 8) Sort dict by value\n",
    "\n",
    "Sort a dict by value descending and print the (key, value) pairs."
   ]
  },
  {
   "cell_type": "code",
   "execution_count": null,
   "id": "bb3b2516",
   "metadata": {},
   "outputs": [],
   "source": [
    "# Your code here\n",
    "# You may write helper functions and tests below.\n"
   ]
  },
  {
   "cell_type": "markdown",
   "id": "e8b7686c",
   "metadata": {},
   "source": [
    "## 9) Invert a mapping\n",
    "\n",
    "Invert a dict (assume values are unique) so values become keys."
   ]
  },
  {
   "cell_type": "code",
   "execution_count": null,
   "id": "ee0d34f8",
   "metadata": {},
   "outputs": [],
   "source": [
    "# Your code here\n",
    "# You may write helper functions and tests below.\n"
   ]
  },
  {
   "cell_type": "markdown",
   "id": "f6c20b72",
   "metadata": {},
   "source": [
    "## 10) Safe nested get\n",
    "\n",
    "Safely get a nested value from a dict without KeyError (use get)."
   ]
  },
  {
   "cell_type": "code",
   "execution_count": null,
   "id": "f6137755",
   "metadata": {},
   "outputs": [],
   "source": [
    "# Your code here\n",
    "# You may write helper functions and tests below.\n"
   ]
  },
  {
   "cell_type": "markdown",
   "id": "75b1cfe7",
   "metadata": {},
   "source": [
    "## 11) Remove keys by predicate\n",
    "\n",
    "Remove keys whose values are falsy from a dict (build a filtered copy)."
   ]
  },
  {
   "cell_type": "code",
   "execution_count": null,
   "id": "83264100",
   "metadata": {},
   "outputs": [],
   "source": [
    "# Your code here\n",
    "# You may write helper functions and tests below.\n"
   ]
  },
  {
   "cell_type": "markdown",
   "id": "f3662ee8",
   "metadata": {},
   "source": [
    "## 12) Combine dicts summing values\n",
    "\n",
    "Combine two dicts by summing values of matching keys."
   ]
  },
  {
   "cell_type": "code",
   "execution_count": null,
   "id": "57f65d97",
   "metadata": {},
   "outputs": [],
   "source": [
    "# Your code here\n",
    "# You may write helper functions and tests below.\n"
   ]
  },
  {
   "cell_type": "markdown",
   "id": "4b73d4f8",
   "metadata": {},
   "source": [
    "## 13) Deduplicate list of dicts by id\n",
    "\n",
    "Keep only the first dict for each unique 'id' in a list of dicts."
   ]
  },
  {
   "cell_type": "code",
   "execution_count": null,
   "id": "e29ecb7d",
   "metadata": {},
   "outputs": [],
   "source": [
    "# Your code here\n",
    "# You may write helper functions and tests below.\n"
   ]
  },
  {
   "cell_type": "markdown",
   "id": "a84ace96",
   "metadata": {},
   "source": [
    "## 14) JSON serialize/deserialize\n",
    "\n",
    "Serialize a dict to JSON string and parse it back."
   ]
  },
  {
   "cell_type": "code",
   "execution_count": null,
   "id": "99287131",
   "metadata": {},
   "outputs": [],
   "source": [
    "# Your code here\n",
    "# You may write helper functions and tests below.\n"
   ]
  },
  {
   "cell_type": "markdown",
   "id": "807d2b18",
   "metadata": {},
   "source": [
    "## 15) ChainMap layered configs\n",
    "\n",
    "Use ChainMap to overlay command-line, env, and defaults."
   ]
  },
  {
   "cell_type": "code",
   "execution_count": null,
   "id": "ee457a69",
   "metadata": {},
   "outputs": [],
   "source": [
    "# Your code here\n",
    "# You may write helper functions and tests below.\n"
   ]
  },
  {
   "cell_type": "markdown",
   "id": "115252a2",
   "metadata": {},
   "source": [
    "## 16) Rename keys\n",
    "\n",
    "Rename keys in a dict based on a provided mapping dict."
   ]
  },
  {
   "cell_type": "code",
   "execution_count": null,
   "id": "e8082d93",
   "metadata": {},
   "outputs": [],
   "source": [
    "# Your code here\n",
    "# You may write helper functions and tests below.\n"
   ]
  },
  {
   "cell_type": "markdown",
   "id": "e4665f40",
   "metadata": {},
   "source": [
    "## 17) Columns dict -> rows list (zip_longest)\n",
    "\n",
    "Convert a dict of column lists to a list of row dicts, handling uneven lengths."
   ]
  },
  {
   "cell_type": "code",
   "execution_count": null,
   "id": "6bb1e0e7",
   "metadata": {},
   "outputs": [],
   "source": [
    "# Your code here\n",
    "# You may write helper functions and tests below.\n"
   ]
  },
  {
   "cell_type": "markdown",
   "id": "417916ed",
   "metadata": {},
   "source": [
    "## 18) Character frequency\n",
    "\n",
    "Build a frequency dict of characters in a string."
   ]
  },
  {
   "cell_type": "code",
   "execution_count": null,
   "id": "9b899e8c",
   "metadata": {},
   "outputs": [],
   "source": [
    "# Your code here\n",
    "# You may write helper functions and tests below.\n"
   ]
  },
  {
   "cell_type": "markdown",
   "id": "c9531a87",
   "metadata": {},
   "source": [
    "## 19) MappingProxyType (read-only view)\n",
    "\n",
    "Create a read-only proxy for a dict and demonstrate its behavior."
   ]
  },
  {
   "cell_type": "code",
   "execution_count": null,
   "id": "baf1e5c0",
   "metadata": {},
   "outputs": [],
   "source": [
    "# Your code here\n",
    "# You may write helper functions and tests below.\n"
   ]
  },
  {
   "cell_type": "markdown",
   "id": "8222ee6c",
   "metadata": {},
   "source": [
    "## 20) pop, popitem, setdefault\n",
    "\n",
    "Practice pop, popitem, and setdefault on a small dict."
   ]
  },
  {
   "cell_type": "code",
   "execution_count": null,
   "id": "c9d8cfa3",
   "metadata": {},
   "outputs": [],
   "source": [
    "# Your code here\n",
    "# You may write helper functions and tests below.\n"
   ]
  },
  {
   "cell_type": "markdown",
   "id": "26156f06",
   "metadata": {},
   "source": [
    "## 21) fromkeys and mutables\n",
    "\n",
    "Show why dict.fromkeys with a mutable default can be dangerous; suggest fix."
   ]
  },
  {
   "cell_type": "code",
   "execution_count": null,
   "id": "57e001dc",
   "metadata": {},
   "outputs": [],
   "source": [
    "# Your code here\n",
    "# You may write helper functions and tests below.\n"
   ]
  },
  {
   "cell_type": "markdown",
   "id": "061f9bb9",
   "metadata": {},
   "source": [
    "## 22) Build dict from zipped lists\n",
    "\n",
    "Create a dict from two lists of keys and values using zip."
   ]
  },
  {
   "cell_type": "code",
   "execution_count": null,
   "id": "4f364a26",
   "metadata": {},
   "outputs": [],
   "source": [
    "# Your code here\n",
    "# You may write helper functions and tests below.\n"
   ]
  },
  {
   "cell_type": "markdown",
   "id": "5d9f05a9",
   "metadata": {},
   "source": [
    "## 23) Flatten one-level nested dict\n",
    "\n",
    "Flatten {'user': {...}, 'active': True} into a single dict (one level)."
   ]
  },
  {
   "cell_type": "code",
   "execution_count": null,
   "id": "0ad5c9a6",
   "metadata": {},
   "outputs": [],
   "source": [
    "# Your code here\n",
    "# You may write helper functions and tests below.\n"
   ]
  },
  {
   "cell_type": "markdown",
   "id": "d1e18322",
   "metadata": {},
   "source": [
    "## 24) Top-N by value\n",
    "\n",
    "Return the top N items from a dict sorted by value descending."
   ]
  },
  {
   "cell_type": "code",
   "execution_count": null,
   "id": "40cbc939",
   "metadata": {},
   "outputs": [],
   "source": [
    "# Your code here\n",
    "# You may write helper functions and tests below.\n"
   ]
  },
  {
   "cell_type": "markdown",
   "id": "e7cdcb6b",
   "metadata": {},
   "source": [
    "## 25) Pretty print dict\n",
    "\n",
    "Pretty-print a nested dict with indentation."
   ]
  },
  {
   "cell_type": "code",
   "execution_count": null,
   "id": "e15af698",
   "metadata": {},
   "outputs": [],
   "source": [
    "# Your code here\n",
    "# You may write helper functions and tests below.\n"
   ]
  }
 ],
 "metadata": {
  "kernelspec": {
   "display_name": "Python 3",
   "language": "python",
   "name": "python3"
  },
  "language_info": {
   "name": "python",
   "version": "3"
  }
 },
 "nbformat": 4,
 "nbformat_minor": 5
}